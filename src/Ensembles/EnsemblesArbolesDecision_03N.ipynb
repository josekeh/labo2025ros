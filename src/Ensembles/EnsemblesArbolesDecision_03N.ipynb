{
 "cells": [
  {
   "cell_type": "markdown",
   "metadata": {
    "id": "O94qX1svwzoC"
   },
   "source": [
    "# 5. Ensembles de Arboles de Decision"
   ]
  },
  {
   "cell_type": "markdown",
   "metadata": {
    "id": "HsJFTcBZw1bE"
   },
   "source": [
    "## 5.4 GBDT LightGBM"
   ]
  },
  {
   "cell_type": "markdown",
   "metadata": {
    "id": "nsgvDbemw9Tc"
   },
   "source": [
    "La técnica de Gradient Boosting fue creada por Jerome H. Friedman en 1999 - 2001\n",
    "<br>Se implementaron librerías ineficientes\n",
    "<br>En 2016 se crea XGBoost, en 2017 LightGBM\n",
    "\n",
    "El Gradient Boosting of Decision Trees es un ensemble de árboles de decisión, para un nuevo registro la predicción se hace sumando el score que cada arbol asigna a ese registro.\n",
    "\n",
    "En GBDT la construccion de los árboles es secuencial, ya que el arbol n-simo se genera para predecir el error del modelo conformado por los  n-1 arboles previos, aunque sea un arbol de clasificación lo que se predice es un numero real mediante un arbol de regresión.\n"
   ]
  },
  {
   "cell_type": "markdown",
   "metadata": {
    "id": "nF6XblBIYnY6"
   },
   "source": [
    "<br>Qué tipo de perturbaciones se realiza LightGBM\n",
    "\n",
    "*   Se perturba el dataset, seleccionando para cada arbol un subconjunto de las columnas.\n",
    "*   El algortimo de arbol de decisión no presenta perturbaciones"
   ]
  },
  {
   "cell_type": "markdown",
   "metadata": {
    "id": "j75A--Tsx2df"
   },
   "source": [
    "Cada arbolito de LightGBM se entrena sobre un dataset perturbado, que en principio posee :\n",
    "* todos los registros del dataset original\n",
    "* solo un porcentaje *feature_fraction* de las columnas originales del dataset"
   ]
  },
  {
   "cell_type": "markdown",
   "metadata": {
    "id": "PX0qg_c0yqob"
   },
   "source": [
    "#### 5.4.1  Seteo del ambiente en Google Colab"
   ]
  },
  {
   "cell_type": "markdown",
   "metadata": {
    "id": "NGY7H9xza7Zr"
   },
   "source": [
    "Esta parte se debe correr con el runtime en Python3\n",
    "<br>Ir al menu, Runtime -> Change Runtime Type -> Runtime type ->  **Python 3**"
   ]
  },
  {
   "cell_type": "markdown",
   "metadata": {
    "id": "7PupIBNba7Zr"
   },
   "source": [
    "Conectar la virtual machine donde esta corriendo Google Colab con el  Google Drive, para poder tener persistencia de archivos"
   ]
  },
  {
   "cell_type": "code",
   "execution_count": null,
   "metadata": {
    "id": "9LpZCst5a7Zs"
   },
   "outputs": [],
   "source": [
    "# primero establecer el Runtime de Python 3\n",
    "from google.colab import drive\n",
    "drive.mount('/content/.drive')"
   ]
  },
  {
   "cell_type": "markdown",
   "metadata": {
    "id": "JYC_F-wla7Zs"
   },
   "source": [
    "Para correr la siguiente celda es fundamental en Arranque en Frio haber copiado el archivo kaggle.json al Google Drive, en la carpeta indicada en el instructivo\n",
    "\n",
    "<br>los siguientes comando estan en shell script de Linux\n",
    "*   Crear las carpetas en el Google Drive\n",
    "*   \"instalar\" el archivo kaggle.json desde el Google Drive a la virtual machine para que pueda ser utilizado por la libreria  kaggle de Python\n",
    "*   Bajar el  **dataset_pequeno**  al  Google Drive  y tambien al disco local de la virtual machine que esta corriendo Google Colab\n",
    "\n"
   ]
  },
  {
   "cell_type": "code",
   "execution_count": null,
   "metadata": {
    "id": "XWLelftXa7Zt"
   },
   "outputs": [],
   "source": [
    "%%shell\n",
    "\n",
    "mkdir -p \"/content/.drive/My Drive/labo1\"\n",
    "mkdir -p \"/content/buckets\"\n",
    "ln -s \"/content/.drive/My Drive/labo1\" /content/buckets/b1\n",
    "\n",
    "mkdir -p ~/.kaggle\n",
    "cp /content/buckets/b1/kaggle/kaggle.json  ~/.kaggle\n",
    "chmod 600 ~/.kaggle/kaggle.json\n",
    "\n",
    "\n",
    "mkdir -p /content/buckets/b1/exp\n",
    "mkdir -p /content/buckets/b1/datasets\n",
    "mkdir -p /content/datasets\n",
    "\n",
    "\n",
    "\n",
    "archivo_origen=\"https://storage.googleapis.com/open-courses/austral2025-af91/labo1r/dataset_pequeno.csv\"\n",
    "archivo_destino=\"/content/datasets/dataset_pequeno.csv\"\n",
    "archivo_destino_bucket=\"/content/buckets/b1/datasets/dataset_pequeno.csv\"\n",
    "\n",
    "if ! test -f $archivo_destino_bucket; then\n",
    "  wget  $archivo_origen  -O $archivo_destino_bucket\n",
    "fi\n",
    "\n",
    "\n",
    "if ! test -f $archivo_destino; then\n",
    "  cp  $archivo_destino_bucket  $archivo_destino\n",
    "fi\n"
   ]
  },
  {
   "cell_type": "markdown",
   "metadata": {
    "id": "oSKhZRToy2F7"
   },
   "source": [
    "### 5.4.2  LightGBM, una corrida"
   ]
  },
  {
   "cell_type": "markdown",
   "metadata": {
    "id": "eSU5vi00CPRS"
   },
   "source": [
    "Esta parte se debe correr con el runtime en lenguaje **R** Ir al menu, Runtime -> Change Runtime Type -> Runtime type -> R"
   ]
  },
  {
   "cell_type": "markdown",
   "metadata": {
    "id": "Zq8dySimCPRT"
   },
   "source": [
    "limpio el ambiente de R"
   ]
  },
  {
   "cell_type": "code",
   "execution_count": 1,
   "metadata": {
    "id": "1iE0U4_WCPRT"
   },
   "outputs": [
    {
     "data": {
      "text/html": [
       "<table class=\"dataframe\">\n",
       "<caption>A matrix: 2 × 6 of type dbl</caption>\n",
       "<thead>\n",
       "\t<tr><th></th><th scope=col>used</th><th scope=col>(Mb)</th><th scope=col>gc trigger</th><th scope=col>(Mb)</th><th scope=col>max used</th><th scope=col>(Mb)</th></tr>\n",
       "</thead>\n",
       "<tbody>\n",
       "\t<tr><th scope=row>Ncells</th><td> 649929</td><td>34.8</td><td>1439382</td><td>76.9</td><td>1359064</td><td>72.6</td></tr>\n",
       "\t<tr><th scope=row>Vcells</th><td>1209847</td><td> 9.3</td><td>8388608</td><td>64.0</td><td>1924969</td><td>14.7</td></tr>\n",
       "</tbody>\n",
       "</table>\n"
      ],
      "text/latex": [
       "A matrix: 2 × 6 of type dbl\n",
       "\\begin{tabular}{r|llllll}\n",
       "  & used & (Mb) & gc trigger & (Mb) & max used & (Mb)\\\\\n",
       "\\hline\n",
       "\tNcells &  649929 & 34.8 & 1439382 & 76.9 & 1359064 & 72.6\\\\\n",
       "\tVcells & 1209847 &  9.3 & 8388608 & 64.0 & 1924969 & 14.7\\\\\n",
       "\\end{tabular}\n"
      ],
      "text/markdown": [
       "\n",
       "A matrix: 2 × 6 of type dbl\n",
       "\n",
       "| <!--/--> | used | (Mb) | gc trigger | (Mb) | max used | (Mb) |\n",
       "|---|---|---|---|---|---|---|\n",
       "| Ncells |  649929 | 34.8 | 1439382 | 76.9 | 1359064 | 72.6 |\n",
       "| Vcells | 1209847 |  9.3 | 8388608 | 64.0 | 1924969 | 14.7 |\n",
       "\n"
      ],
      "text/plain": [
       "       used    (Mb) gc trigger (Mb) max used (Mb)\n",
       "Ncells  649929 34.8 1439382    76.9 1359064  72.6\n",
       "Vcells 1209847  9.3 8388608    64.0 1924969  14.7"
      ]
     },
     "metadata": {},
     "output_type": "display_data"
    }
   ],
   "source": [
    "# limpio la memoria\n",
    "rm(list=ls(all.names=TRUE)) # remove all objects\n",
    "gc(full=TRUE, verbose=FALSE) # garbage collection"
   ]
  },
  {
   "cell_type": "code",
   "execution_count": 2,
   "metadata": {
    "id": "BJDwdD0dCPRU"
   },
   "outputs": [
    {
     "name": "stderr",
     "output_type": "stream",
     "text": [
      "Loading required package: data.table\n",
      "\n",
      "Loading required package: rpart\n",
      "\n",
      "Loading required package: rlist\n",
      "\n",
      "Loading required package: lightgbm\n",
      "\n"
     ]
    }
   ],
   "source": [
    "# cargo las librerias que necesito\n",
    "require(\"data.table\")\n",
    "require(\"rpart\")\n",
    "\n",
    "if( !require(\"rlist\") ) install.packages(\"rlist\")\n",
    "require(\"rlist\")\n",
    "\n",
    "if( !require(\"lightgbm\") ) install.packages(\"lightgbm\")\n",
    "require(\"lightgbm\")"
   ]
  },
  {
   "cell_type": "markdown",
   "metadata": {
    "id": "M8-Pyp6CCPRU"
   },
   "source": [
    "Aqui debe cargar SU semilla primigenia"
   ]
  },
  {
   "cell_type": "code",
   "execution_count": 4,
   "metadata": {
    "id": "peRH7ySLCPRV"
   },
   "outputs": [],
   "source": [
    "PARAM <- list()\n",
    "PARAM$experimento <- 5421\n",
    "PARAM$semilla_primigenia <- 314159\n",
    "\n",
    "# estos hiperparametros de LightGBM surgieron de una Bayesian Optimization\n",
    "PARAM$lgb$num_iterations <- 10000  # cantidad de arbolitos\n",
    "PARAM$lgb$learning_rate <- 0.027\n",
    "PARAM$lgb$feature_fraction <- 0.8\n",
    "PARAM$lgb$min_data_in_leaf <- 76\n",
    "PARAM$lgb$num_leaves <- 2\n",
    "PARAM$lgb$max_bin <- 31\n"
   ]
  },
  {
   "cell_type": "code",
   "execution_count": 5,
   "metadata": {
    "id": "1gZD6ZMvCPRV"
   },
   "outputs": [],
   "source": [
    "# carpeta de trabajo\n",
    "setwd(\"/content/buckets/b1/exp\")\n",
    "experimento_folder <- paste0(\"KA\", PARAM$experimento)\n",
    "dir.create(experimento_folder, showWarnings=FALSE)\n",
    "setwd( paste0(\"/content/buckets/b1/exp/\", experimento_folder ))"
   ]
  },
  {
   "cell_type": "code",
   "execution_count": 6,
   "metadata": {
    "id": "Xi0emX2ECPRV"
   },
   "outputs": [],
   "source": [
    "# lectura del dataset\n",
    "dataset <- fread(\"/content/datasets/dataset_pequeno.csv\", stringsAsFactors = TRUE)"
   ]
  },
  {
   "cell_type": "code",
   "execution_count": 7,
   "metadata": {
    "id": "-3XuBeDy1Ugj"
   },
   "outputs": [],
   "source": [
    "# paso la clase a binaria que tome valores {0,1}  enteros\n",
    "# set trabaja con la clase  POS = { BAJA+1, BAJA+2 }\n",
    "# esta estrategia es MUY importante\n",
    "dataset[, clase01 := ifelse(clase_ternaria %in% c(\"BAJA+2\", \"BAJA+1\"), 1L, 0L)]"
   ]
  },
  {
   "cell_type": "code",
   "execution_count": 8,
   "metadata": {
    "id": "h8Anoo4Sel8S"
   },
   "outputs": [],
   "source": [
    "# los campos que se van a utilizar\n",
    "campos_buenos <- setdiff(colnames(dataset), c(\"clase_ternaria\", \"clase01\"))"
   ]
  },
  {
   "cell_type": "code",
   "execution_count": 9,
   "metadata": {
    "id": "RA3cSJ6KaGwA"
   },
   "outputs": [],
   "source": [
    "# establezco donde entreno\n",
    "dataset[, train := 0L]\n",
    "dataset[foto_mes %in% c(202107), train := 1L]"
   ]
  },
  {
   "cell_type": "code",
   "execution_count": 10,
   "metadata": {
    "id": "T6Zr06HB1kMU"
   },
   "outputs": [],
   "source": [
    "# dejo los datos en el formato que necesita LightGBM\n",
    "dtrain <- lgb.Dataset(\n",
    "  data= data.matrix(dataset[train == 1L, campos_buenos, with = FALSE]),\n",
    "  label= dataset[train == 1L, clase01]\n",
    ")"
   ]
  },
  {
   "cell_type": "code",
   "execution_count": 11,
   "metadata": {
    "id": "TI9_5pii2zCF"
   },
   "outputs": [
    {
     "name": "stdout",
     "output_type": "stream",
     "text": [
      "[LightGBM] [Info] Number of positive: 2385, number of negative: 162211\n",
      "[LightGBM] [Info] Auto-choosing row-wise multi-threading, the overhead of testing was 0.025498 seconds.\n",
      "You can set `force_row_wise=true` to remove the overhead.\n",
      "And if memory is not enough, you can set `force_col_wise=true`.\n",
      "[LightGBM] [Info] Total Bins 3612\n",
      "[LightGBM] [Info] Number of data points in the train set: 164596, number of used features: 153\n",
      "[LightGBM] [Info] [binary:BoostFromScore]: pavg=0.014490 -> initscore=-4.219699\n",
      "[LightGBM] [Info] Start training from score -4.219699\n"
     ]
    }
   ],
   "source": [
    "# genero el modelo\n",
    "# estos hiperparametros  salieron de una laaarga Optmizacion Bayesiana\n",
    "set.seed( PARAM$semilla_primigenia ) # Establezco la semilla aleatoria\n",
    "\n",
    "modelo <- lgb.train(\n",
    "  data= dtrain,\n",
    "  param= list(\n",
    "    objective= \"binary\",\n",
    "    max_bin= PARAM$lgb$max_bin,\n",
    "    learning_rate= PARAM$lgb$learning_rate,\n",
    "    num_iterations= PARAM$lgb$num_iterations,\n",
    "    num_leaves= PARAM$lgb$num_leaves,\n",
    "    min_data_in_leaf= PARAM$lgb$min_data_in_leaf,\n",
    "    feature_fraction= PARAM$lgb$feature_fraction,\n",
    "    seed= PARAM$semilla_primigenia\n",
    "  )\n",
    ")\n"
   ]
  },
  {
   "cell_type": "code",
   "execution_count": 12,
   "metadata": {
    "id": "69QcMsSkg9d-"
   },
   "outputs": [],
   "source": [
    "# ahora imprimo la importancia de variables\n",
    "tb_importancia <- as.data.table(lgb.importance(modelo))\n",
    "archivo_importancia <- \"impo.txt\"\n",
    "\n",
    "fwrite(tb_importancia,\n",
    "  file = archivo_importancia,\n",
    "  sep = \"\\t\"\n",
    ")\n"
   ]
  },
  {
   "cell_type": "code",
   "execution_count": 13,
   "metadata": {
    "id": "lauiNeQDg-XP"
   },
   "outputs": [],
   "source": [
    "# grabo a disco el modelo en un formato para seres humanos ... ponele ...\n",
    "\n",
    "lgb.save(modelo, \"modelo.txt\" )"
   ]
  },
  {
   "cell_type": "code",
   "execution_count": 14,
   "metadata": {
    "id": "VQhEcNmBhF7u"
   },
   "outputs": [],
   "source": [
    "# aplico el modelo a los datos sin clase\n",
    "dfuture <- dataset[foto_mes == 202109]\n",
    "\n",
    "# aplico el modelo a los datos nuevos\n",
    "prediccion <- predict(\n",
    "  modelo,\n",
    "  data.matrix(dfuture[, campos_buenos, with = FALSE])\n",
    ")\n"
   ]
  },
  {
   "cell_type": "code",
   "execution_count": 15,
   "metadata": {
    "id": "Z5LYpStThlIC"
   },
   "outputs": [],
   "source": [
    "# tabla de prediccion\n",
    "\n",
    "tb_prediccion <- dfuture[, list(numero_de_cliente)]\n",
    "tb_prediccion[, prob := prediccion ]\n",
    "\n",
    "# grabo las probabilidad del modelo\n",
    "fwrite(tb_prediccion,\n",
    "  file = \"prediccion.txt\",\n",
    "  sep = \"\\t\"\n",
    ")"
   ]
  },
  {
   "cell_type": "code",
   "execution_count": 16,
   "metadata": {
    "id": "vSopCODCh6kL"
   },
   "outputs": [],
   "source": [
    "# subidas a Kaggle\n",
    "# ordeno por probabilidad descendente\n",
    "setorder(tb_prediccion, -prob)"
   ]
  },
  {
   "cell_type": "code",
   "execution_count": 17,
   "metadata": {
    "id": "-qtXKj-uiCJx"
   },
   "outputs": [
    {
     "name": "stdout",
     "output_type": "stream",
     "text": [
      "Successfully submitted to LaboI 2025 RosarioSuccessfully submitted to LaboI 2025 RosarioSuccessfully submitted to LaboI 2025 RosarioSuccessfully submitted to LaboI 2025 RosarioSuccessfully submitted to LaboI 2025 RosarioSuccessfully submitted to LaboI 2025 RosarioSuccessfully submitted to LaboI 2025 RosarioSuccessfully submitted to LaboI 2025 RosarioSuccessfully submitted to LaboI 2025 RosarioSuccessfully submitted to LaboI 2025 Rosario"
     ]
    }
   ],
   "source": [
    "# genero archivos con los  \"envios\" mejores\n",
    "# suba TODOS los archivos a Kaggle\n",
    "\n",
    "cortes <- seq(9000, 13500, by = 500)\n",
    "\n",
    "for (envios in cortes) {\n",
    "\n",
    "  tb_prediccion[, Predicted := 0L]\n",
    "  tb_prediccion[1:envios, Predicted := 1L]\n",
    "\n",
    "  archivo_kaggle <- paste0(\"KA\", PARAM$experimento, \"_\", envios, \".csv\")\n",
    "\n",
    "  # grabo el archivo\n",
    "  fwrite(tb_prediccion[, list(numero_de_cliente, Predicted)],\n",
    "    file = archivo_kaggle,\n",
    "    sep = \",\"\n",
    "  )\n",
    "\n",
    "  # subida a Kaggle\n",
    "  comando <- \"kaggle competitions submit\"\n",
    "  competencia <- \"-c labo-i-2025-rosario\"\n",
    "  arch <- paste( \"-f\", archivo_kaggle)\n",
    "\n",
    "  mensaje <- paste0(\"-m 'num_iterations=\", PARAM$lgb$num_iterations,\n",
    "    \"  learning_rate=\", PARAM$lgb$learning_rate,\n",
    "    \"  feature_fraction=\", PARAM$lgb$feature_fraction,\n",
    "    \"  min_data_in_leaf=\", PARAM$lgb$min_data_in_leaf,\n",
    "    \"  num_leaves=\",PARAM$lgb$num_leaves,\n",
    "    \"  max_bin=\", PARAM$lgb$max_bin,\n",
    "  \"'\" )\n",
    "\n",
    "  linea <- paste( comando, competencia, arch, mensaje)\n",
    "  salida <- system(linea, intern=TRUE)\n",
    "  cat(salida)\n",
    "}"
   ]
  },
  {
   "cell_type": "markdown",
   "metadata": {
    "id": "UMr6Z1enOyd3"
   },
   "source": [
    "\n",
    "\n",
    "---\n",
    "\n"
   ]
  },
  {
   "cell_type": "markdown",
   "metadata": {
    "id": "lO4QwOEU-xPe"
   },
   "source": [
    "### 5.4.3  LightGBM  optimizacion de hiperparámetros"
   ]
  },
  {
   "cell_type": "markdown",
   "metadata": {
    "id": "75FU3LjSF2uN"
   },
   "source": [
    "La optimizacion de los hiperparámetros de LightGBM mediante el método de optimizacion bayesiana será su *caballito de batalla* durante la asignatura !"
   ]
  },
  {
   "cell_type": "markdown",
   "metadata": {
    "id": "aJBO5Dcb_B7s"
   },
   "source": [
    "limpio el ambiente de R"
   ]
  },
  {
   "cell_type": "code",
   "execution_count": 1,
   "metadata": {
    "id": "HPKFI6yP_B7s"
   },
   "outputs": [
    {
     "data": {
      "text/html": [
       "<table class=\"dataframe\">\n",
       "<caption>A matrix: 2 × 6 of type dbl</caption>\n",
       "<thead>\n",
       "\t<tr><th></th><th scope=col>used</th><th scope=col>(Mb)</th><th scope=col>gc trigger</th><th scope=col>(Mb)</th><th scope=col>max used</th><th scope=col>(Mb)</th></tr>\n",
       "</thead>\n",
       "<tbody>\n",
       "\t<tr><th scope=row>Ncells</th><td> 650030</td><td>34.8</td><td>1439394</td><td>76.9</td><td>1154840</td><td>61.7</td></tr>\n",
       "\t<tr><th scope=row>Vcells</th><td>1210124</td><td> 9.3</td><td>8388608</td><td>64.0</td><td>1924969</td><td>14.7</td></tr>\n",
       "</tbody>\n",
       "</table>\n"
      ],
      "text/latex": [
       "A matrix: 2 × 6 of type dbl\n",
       "\\begin{tabular}{r|llllll}\n",
       "  & used & (Mb) & gc trigger & (Mb) & max used & (Mb)\\\\\n",
       "\\hline\n",
       "\tNcells &  650030 & 34.8 & 1439394 & 76.9 & 1154840 & 61.7\\\\\n",
       "\tVcells & 1210124 &  9.3 & 8388608 & 64.0 & 1924969 & 14.7\\\\\n",
       "\\end{tabular}\n"
      ],
      "text/markdown": [
       "\n",
       "A matrix: 2 × 6 of type dbl\n",
       "\n",
       "| <!--/--> | used | (Mb) | gc trigger | (Mb) | max used | (Mb) |\n",
       "|---|---|---|---|---|---|---|\n",
       "| Ncells |  650030 | 34.8 | 1439394 | 76.9 | 1154840 | 61.7 |\n",
       "| Vcells | 1210124 |  9.3 | 8388608 | 64.0 | 1924969 | 14.7 |\n",
       "\n"
      ],
      "text/plain": [
       "       used    (Mb) gc trigger (Mb) max used (Mb)\n",
       "Ncells  650030 34.8 1439394    76.9 1154840  61.7\n",
       "Vcells 1210124  9.3 8388608    64.0 1924969  14.7"
      ]
     },
     "metadata": {},
     "output_type": "display_data"
    }
   ],
   "source": [
    "# limpio la memoria\n",
    "rm(list=ls(all.names=TRUE)) # remove all objects\n",
    "gc(full=TRUE, verbose=FALSE) # garbage collection"
   ]
  },
  {
   "cell_type": "code",
   "execution_count": 2,
   "metadata": {
    "id": "B6X8U6XF_B7t"
   },
   "outputs": [
    {
     "name": "stderr",
     "output_type": "stream",
     "text": [
      "Loading required package: data.table\n",
      "\n",
      "Loading required package: rpart\n",
      "\n",
      "Loading required package: parallel\n",
      "\n",
      "Loading required package: primes\n",
      "\n",
      "Loading required package: rlist\n",
      "\n",
      "Loading required package: lightgbm\n",
      "\n",
      "Loading required package: DiceKriging\n",
      "\n",
      "Loading required package: mlrMBO\n",
      "\n",
      "Loading required package: mlr\n",
      "\n",
      "Loading required package: ParamHelpers\n",
      "\n",
      "Loading required package: smoof\n",
      "\n",
      "Loading required package: checkmate\n",
      "\n",
      "\n",
      "Attaching package: ‘checkmate’\n",
      "\n",
      "\n",
      "The following object is masked from ‘package:DiceKriging’:\n",
      "\n",
      "    checkNames\n",
      "\n",
      "\n"
     ]
    }
   ],
   "source": [
    "# cargo las librerias que necesito\n",
    "require(\"data.table\")\n",
    "require(\"rpart\")\n",
    "require(\"parallel\")\n",
    "\n",
    "if( !require(\"primes\") ) install.packages(\"primes\")\n",
    "require(\"primes\")\n",
    "\n",
    "if( !require(\"rlist\") ) install.packages(\"rlist\")\n",
    "require(\"rlist\")\n",
    "\n",
    "if( !require(\"lightgbm\") ) install.packages(\"lightgbm\")\n",
    "require(\"lightgbm\")\n",
    "\n",
    "if( !require(\"DiceKriging\") ) install.packages(\"DiceKriging\")\n",
    "require(\"DiceKriging\")\n",
    "\n",
    "if( !require(\"mlrMBO\") ) install.packages(\"mlrMBO\")\n",
    "require(\"mlrMBO\")\n"
   ]
  },
  {
   "cell_type": "markdown",
   "metadata": {
    "id": "_qZHeAHdCJQ2"
   },
   "source": [
    "Aqui debe cargar SU semilla primigenia"
   ]
  },
  {
   "cell_type": "code",
   "execution_count": 3,
   "metadata": {
    "id": "2y3Ai8F6CJQ2"
   },
   "outputs": [],
   "source": [
    "PARAM <- list()\n",
    "PARAM$experimento <- 5431\n",
    "PARAM$semilla_primigenia <- 314159\n",
    "\n",
    "# un undersampling de 0.1  toma solo el 10% de los CONTINUA\n",
    "# undersampling de 1.0  implica tomar TODOS los datos\n",
    "PARAM$trainingstrategy$undersampling <- 1.0\n",
    "\n",
    "PARAM$hyperparametertuning$iteraciones <- 500\n",
    "PARAM$hyperparametertuning$xval_folds <- 5\n",
    "PARAM$hyperparametertuning$POS_ganancia <- 117000\n",
    "PARAM$hyperparametertuning$NEG_ganancia <- -3000\n",
    "\n",
    "# Aqui se cargan los bordes de los hiperparametros\n",
    "PARAM$hs <- makeParamSet(\n",
    "  makeNumericParam(\"learning_rate\", lower = 0.01, upper = 0.3),\n",
    "  makeIntegerParam(\"num_leaves\", lower = 8L, upper = 1024L),\n",
    "  makeNumericParam(\"feature_fraction\", lower = 0.1, upper = 1.0),\n",
    "  makeIntegerParam(\"min_data_in_leaf\", lower = 1L, upper = 8000L),\n",
    "  makeIntegerParam(\"envios\", lower = 5000L, upper = 15000L),\n",
    "  makeNumericParam(\"bagging_fraction\", lower = 0.1, upper = 1.0), #Agregado\n",
    "  makeNumericParam(\"lambda_l1\", lower = 0, upper = 2.0) #Agregado\n",
    ")"
   ]
  },
  {
   "cell_type": "code",
   "execution_count": 4,
   "metadata": {
    "id": "P8YNRVVbCvQT"
   },
   "outputs": [],
   "source": [
    "# graba a un archivo los componentes de lista\n",
    "# para el primer registro, escribe antes los titulos\n",
    "\n",
    "loguear <- function(\n",
    "    reg, arch = NA, folder = \"./work/\",\n",
    "    ext = \".txt\", verbose = TRUE) {\n",
    "\n",
    "  archivo <- arch\n",
    "  if (is.na(arch)) archivo <- paste0(folder, substitute(reg), ext)\n",
    "\n",
    "  if (!file.exists(archivo)) # Escribo los titulos\n",
    "    {\n",
    "      linea <- paste0(\n",
    "        \"fecha\\t\",\n",
    "        paste(list.names(reg), collapse = \"\\t\"), \"\\n\"\n",
    "      )\n",
    "\n",
    "      cat(linea, file = archivo)\n",
    "    }\n",
    "\n",
    "  linea <- paste0(\n",
    "    format(Sys.time(), \"%Y%m%d %H%M%S\"), \"\\t\", # la fecha y hora\n",
    "    gsub(\", \", \"\\t\", toString(reg)), \"\\n\"\n",
    "  )\n",
    "\n",
    "  cat(linea, file = archivo, append = TRUE) # grabo al archivo\n",
    "\n",
    "  if (verbose) cat(linea) # imprimo por pantalla\n",
    "}\n"
   ]
  },
  {
   "cell_type": "code",
   "execution_count": 5,
   "metadata": {
    "id": "NnPKiCHuCwVo"
   },
   "outputs": [],
   "source": [
    "# esta funcion calcula internamente la ganancia de la prediccion probs\n",
    "# es llamada por lightgbm luego de construir cada  arbolito\n",
    "\n",
    "fganancia_logistic_lightgbm <- function(probs, datos) {\n",
    "  vpesos <- get_field(datos, \"weight\")\n",
    "\n",
    "  # vector de ganancias\n",
    "  vgan <- ifelse(vpesos == 1.0000002, PARAM$hyperparametertuning$POS_ganancia,\n",
    "    ifelse(vpesos == 1.0000001, PARAM$hyperparametertuning$NEG_ganancia,\n",
    "      PARAM$hyperparametertuning$NEG_ganancia /\n",
    "        PARAM$trainingstrategy$undersampling\n",
    "    )\n",
    "  )\n",
    "\n",
    "  tbl <- as.data.table(list(\"vprobs\" = probs, \"vgan\" = vgan))\n",
    "  setorder(tbl, -vprobs)\n",
    "  ganancia <- tbl[1:GLOBAL_envios, sum(vgan)]\n",
    "\n",
    "  return(list(\n",
    "    \"name\" = \"ganancia\",\n",
    "    \"value\" = ganancia,\n",
    "    \"higher_better\" = TRUE\n",
    "  ))\n",
    "}\n"
   ]
  },
  {
   "cell_type": "code",
   "execution_count": 6,
   "metadata": {
    "id": "kZSD7pUUCy58"
   },
   "outputs": [],
   "source": [
    "# esta funcion solo puede recibir los parametros que se estan optimizando\n",
    "# el resto de los parametros se pasan como variables globales,\n",
    "# la semilla del mal ...\n",
    "\n",
    "\n",
    "EstimarGanancia_lightgbm <- function(x) {\n",
    "  gc() # libero memoria\n",
    "\n",
    "  # llevo el registro de la iteracion por la que voy\n",
    "  GLOBAL_iteracion <<- GLOBAL_iteracion + 1\n",
    "\n",
    "  # para usar en fganancia_logistic_lightgbm\n",
    "  # asigno la variable global\n",
    "  GLOBAL_envios <<- as.integer(x$envios / PARAM$hyperparametertuning$xval_folds)\n",
    "\n",
    "  # cantidad de folds para cross validation\n",
    "  kfolds <- PARAM$hyperparametertuning$xval_folds\n",
    "\n",
    "  param_basicos <- list(\n",
    "    objective= \"binary\",\n",
    "    metric= \"custom\",\n",
    "    first_metric_only= TRUE,\n",
    "    boost_from_average= TRUE,\n",
    "    feature_pre_filter= FALSE,\n",
    "    verbosity= -100,\n",
    "    max_bin= 31, # por ahora, lo dejo fijo\n",
    "    num_iterations= 9999, # valor grande, lo limita early_stopping_rounds\n",
    "    force_row_wise= TRUE, # para evitar warning\n",
    "    seed= ksemilla_azar1\n",
    "  )\n",
    "\n",
    "  # el parametro discolo, que depende de otro\n",
    "  param_variable <- list(\n",
    "    early_stopping_rounds =\n",
    "      as.integer(50 + 5 / x$learning_rate)\n",
    "  )\n",
    "\n",
    "  param_completo <- c(param_basicos, param_variable, x)\n",
    "\n",
    "  set.seed(ksemilla_azar1)\n",
    "  modelocv <- lgb.cv(\n",
    "    data= dtrain,\n",
    "    eval= fganancia_logistic_lightgbm,\n",
    "    stratified= TRUE, # sobre el cross validation\n",
    "    nfold= kfolds, # folds del cross validation\n",
    "    param= param_completo,\n",
    "    verbose= -100\n",
    "  )\n",
    "\n",
    "  # obtengo la ganancia\n",
    "  ganancia <- unlist(modelocv$record_evals$valid$ganancia$eval)[modelocv$best_iter]\n",
    "\n",
    "  ganancia_normalizada <- ganancia * kfolds # normailizo la ganancia\n",
    "\n",
    "  # asigno el mejor num_iterations\n",
    "  param_completo$num_iterations <- modelocv$best_iter\n",
    "  # elimino de la lista el componente\n",
    "  param_completo[\"early_stopping_rounds\"] <- NULL\n",
    "\n",
    "\n",
    "  # el lenguaje R permite asignarle ATRIBUTOS a cualquier variable\n",
    "  # esta es la forma de devolver un parametro extra\n",
    "  attr(ganancia_normalizada, \"extras\") <-\n",
    "    list(\"num_iterations\" = modelocv$best_iter)\n",
    "\n",
    "  # logueo\n",
    "  xx <- param_completo\n",
    "  xx$ganancia <- ganancia_normalizada # le agrego la ganancia\n",
    "  xx$iteracion <- GLOBAL_iteracion\n",
    "  loguear(xx, arch = klog)\n",
    "\n",
    "  # Voy registrando la importancia de variables\n",
    "  if (ganancia_normalizada > GLOBAL_gananciamax) {\n",
    "    GLOBAL_gananciamax <<- ganancia_normalizada\n",
    "    modelo <- lgb.train(\n",
    "      data = dtrain,\n",
    "      param = param_completo,\n",
    "      verbose = -100\n",
    "    )\n",
    "\n",
    "    tb_importancia <- as.data.table(lgb.importance(modelo))\n",
    "    archivo_importancia <- paste0(\"impo_\", GLOBAL_iteracion, \".txt\")\n",
    "    fwrite(tb_importancia,\n",
    "      file = archivo_importancia,\n",
    "      sep = \"\\t\" )\n",
    "\n",
    "    loguear(xx, arch = klog_mejor)\n",
    "  }\n",
    "\n",
    "  return(ganancia_normalizada)\n",
    "}\n"
   ]
  },
  {
   "cell_type": "markdown",
   "metadata": {
    "id": "P7Pw1KLeE3UH"
   },
   "source": [
    "aqui se inicia el programa"
   ]
  },
  {
   "cell_type": "code",
   "execution_count": 7,
   "metadata": {
    "id": "w1lb19whCJQ3"
   },
   "outputs": [],
   "source": [
    "# carpeta de trabajo\n",
    "setwd(\"/content/buckets/b1/exp\")\n",
    "experimento_folder <- paste0(\"HT\", PARAM$experimento)\n",
    "dir.create(experimento_folder, showWarnings=FALSE)\n",
    "setwd( paste0(\"/content/buckets/b1/exp/\", experimento_folder ))"
   ]
  },
  {
   "cell_type": "code",
   "execution_count": 8,
   "metadata": {
    "id": "fbLF3Vr0DAeJ"
   },
   "outputs": [],
   "source": [
    "# genero numeros primos\n",
    "primos <- generate_primes(min = 100000, max = 1000000)\n",
    "set.seed(PARAM$semilla_primigenia) # inicializo\n",
    "# me quedo con PARAM$qsemillas   semillas\n",
    "PARAM$semillas <- sample(primos, 2 )\n",
    "ksemilla_azar1 <- PARAM$semillas[1]\n",
    "ksemilla_azar2 <- PARAM$semillas[2]\n"
   ]
  },
  {
   "cell_type": "code",
   "execution_count": 9,
   "metadata": {
    "id": "QvOokHUvuolF"
   },
   "outputs": [],
   "source": [
    "# en estos archivos quedan los resultados\n",
    "\n",
    "kbayesiana <- paste0(PARAM$experimento, \".RDATA\")\n",
    "klog <- paste0(PARAM$experimento, \".txt\")\n",
    "klog_mejor <- paste0(PARAM$experimento, \"_mejor.txt\")\n",
    "\n",
    "GLOBAL_iteracion <- 0 # inicializo la variable global\n",
    "GLOBAL_gananciamax <- -1 # inicializo la variable global\n",
    "\n",
    "# si ya existe el archivo log, traigo hasta donde llegue\n",
    "if (file.exists(klog)) {\n",
    "  tabla_log <- fread(klog)\n",
    "  GLOBAL_iteracion <- nrow(tabla_log)\n",
    "  GLOBAL_gananciamax <- tabla_log[, max(ganancia)]\n",
    "}\n"
   ]
  },
  {
   "cell_type": "code",
   "execution_count": 10,
   "metadata": {
    "id": "xcOJpoFvCJQ3"
   },
   "outputs": [],
   "source": [
    "# lectura del dataset\n",
    "dataset <- fread(\"/content/datasets/dataset_pequeno.csv\")"
   ]
  },
  {
   "cell_type": "code",
   "execution_count": 11,
   "metadata": {
    "id": "JorOk_A8EhSy"
   },
   "outputs": [],
   "source": [
    "dataset <- dataset[foto_mes %in% c(202107)]"
   ]
  },
  {
   "cell_type": "code",
   "execution_count": 12,
   "metadata": {
    "id": "JDg9xZVYrwvj"
   },
   "outputs": [],
   "source": [
    "# paso la clase a binaria que tome valores {0,1}  enteros\n",
    "dataset[\n",
    "  foto_mes %in% c(202107),\n",
    "  clase01 := ifelse(clase_ternaria == \"CONTINUA\", 0L, 1L)\n",
    "]"
   ]
  },
  {
   "cell_type": "code",
   "execution_count": 13,
   "metadata": {
    "id": "E68xpDYAr0nK"
   },
   "outputs": [],
   "source": [
    "# los campos que se van a utilizar\n",
    "campos_buenos <- setdiff(\n",
    "  colnames(dataset),\n",
    "  c(\"clase_ternaria\", \"clase01\", \"azar\", \"training\")\n",
    ")\n"
   ]
  },
  {
   "cell_type": "code",
   "execution_count": 14,
   "metadata": {
    "id": "G8zeYUfSr3GF"
   },
   "outputs": [],
   "source": [
    "# defino los datos que forma parte del training\n",
    "# aqui se hace el undersampling de los CONTINUA\n",
    "# notar que para esto utilizo la SEGUNDA semilla\n",
    "\n",
    "set.seed(ksemilla_azar2)\n",
    "dataset[, azar := runif(nrow(dataset))]\n",
    "dataset[, training := 0L]\n",
    "dataset[\n",
    "  foto_mes %in% c(202107) &\n",
    "    (azar <= PARAM$trainingstrategy$undersampling | clase_ternaria %in% c(\"BAJA+1\", \"BAJA+2\")),\n",
    "  training := 1L\n",
    "]"
   ]
  },
  {
   "cell_type": "code",
   "execution_count": 15,
   "metadata": {
    "id": "se8_aKuMr5CV"
   },
   "outputs": [],
   "source": [
    "# dejo los datos en el formato que necesita LightGBM\n",
    "dtrain <- lgb.Dataset(\n",
    "  data = data.matrix(dataset[training == 1L, campos_buenos, with = FALSE]),\n",
    "  label = dataset[training == 1L, clase01],\n",
    "  weight = dataset[training == 1L, ifelse(clase_ternaria == \"BAJA+2\", 1.0000002, ifelse(clase_ternaria == \"BAJA+1\", 1.0000001, 1.0))],\n",
    "  free_raw_data = FALSE\n",
    ")\n"
   ]
  },
  {
   "cell_type": "code",
   "execution_count": 16,
   "metadata": {
    "id": "CsRYGGeN-1ID"
   },
   "outputs": [],
   "source": [
    "# Aqui comienza la configuracion de la Bayesian Optimization\n",
    "funcion_optimizar <- EstimarGanancia_lightgbm # la funcion que voy a maximizar\n",
    "\n",
    "configureMlr(show.learner.output = FALSE)\n",
    "\n",
    "# configuro la busqueda bayesiana,  los hiperparametros que se van a optimizar\n",
    "# por favor, no desesperarse por lo complejo\n",
    "obj.fun <- makeSingleObjectiveFunction(\n",
    "  fn = funcion_optimizar, # la funcion que voy a maximizar\n",
    "  minimize = FALSE, # estoy Maximizando la ganancia\n",
    "  noisy = TRUE,\n",
    "  par.set = PARAM$hs, # definido al comienzo del programa\n",
    "  has.simple.signature = FALSE # paso los parametros en una lista\n",
    ")\n",
    "\n",
    "# cada 600 segundos guardo el resultado intermedio\n",
    "ctrl <- makeMBOControl(\n",
    "  save.on.disk.at.time = 600, # se graba cada 600 segundos\n",
    "  save.file.path = kbayesiana\n",
    ") # se graba cada 600 segundos\n",
    "\n",
    "# indico la cantidad de iteraciones que va a tener la Bayesian Optimization\n",
    "ctrl <- setMBOControlTermination(\n",
    "  ctrl,\n",
    "  iters = PARAM$hyperparametertuning$iteraciones\n",
    ") # cantidad de iteraciones\n",
    "\n",
    "# defino el método estandar para la creacion de los puntos iniciales,\n",
    "# los \"No Inteligentes\"\n",
    "ctrl <- setMBOControlInfill(ctrl, crit = makeMBOInfillCritEI())\n",
    "\n",
    "# establezco la funcion que busca el maximo\n",
    "surr.km <- makeLearner(\n",
    "  \"regr.km\",\n",
    "  predict.type = \"se\",\n",
    "  covtype = \"matern3_2\",\n",
    "  control = list(trace = TRUE)\n",
    ")\n"
   ]
  },
  {
   "cell_type": "code",
   "execution_count": null,
   "metadata": {
    "id": "TissqCCHD1uZ"
   },
   "outputs": [
    {
     "name": "stderr",
     "output_type": "stream",
     "text": [
      "Computing y column(s) for design. Not provided.\n",
      "\n"
     ]
    },
    {
     "name": "stdout",
     "output_type": "stream",
     "text": [
      "20250605 212524\tbinary\tcustom\tTRUE\tTRUE\tFALSE\t-100\t31\t111\tTRUE\t531673\t0.162751880437468\t789\t0.795007657180707\t5015\t9810\t0.687453841966011\t1.45448340738325\t59130000\t1\n",
      "20250605 212530\tbinary\tcustom\tTRUE\tTRUE\tFALSE\t-100\t31\t111\tTRUE\t531673\t0.162751880437468\t789\t0.795007657180707\t5015\t9810\t0.687453841966011\t1.45448340738325\t59130000\t1\n",
      "20250605 212559\tbinary\tcustom\tTRUE\tTRUE\tFALSE\t-100\t31\t151\tTRUE\t531673\t0.168665953657889\t561\t0.318468382091461\t4857\t9318\t0.943020798709144\t1.04712087449817\t59055000\t2\n",
      "20250605 212623\tbinary\tcustom\tTRUE\tTRUE\tFALSE\t-100\t31\t118\tTRUE\t531673\t0.212989273317009\t642\t0.411942562959822\t6417\t12850\t0.40437429361378\t0.600754726278995\t58530000\t3\n",
      "20250605 212711\tbinary\tcustom\tTRUE\tTRUE\tFALSE\t-100\t31\t283\tTRUE\t531673\t0.142678953167633\t457\t0.450505346165404\t3576\t11248\t0.367609061638359\t1.31838257673995\t59745000\t4\n",
      "20250605 212721\tbinary\tcustom\tTRUE\tTRUE\tFALSE\t-100\t31\t283\tTRUE\t531673\t0.142678953167633\t457\t0.450505346165404\t3576\t11248\t0.367609061638359\t1.31838257673995\t59745000\t4\n",
      "20250605 212755\tbinary\tcustom\tTRUE\tTRUE\tFALSE\t-100\t31\t101\tTRUE\t531673\t0.0519297453303755\t218\t0.373712987002883\t2526\t12318\t0.555568332977626\t0.84145155891643\t59055000\t5\n",
      "20250605 212824\tbinary\tcustom\tTRUE\tTRUE\tFALSE\t-100\t31\t161\tTRUE\t531673\t0.126530827150397\t547\t0.637057728543212\t2053\t6730\t0.334686011747025\t0.711717771648962\t54810000\t6\n",
      "20250605 212846\tbinary\tcustom\tTRUE\tTRUE\tFALSE\t-100\t31\t120\tTRUE\t531673\t0.235187041482838\t395\t0.59080431476884\t7252\t8295\t0.512760128298708\t0.909657295992864\t58515000\t7\n",
      "20250605 212925\tbinary\tcustom\tTRUE\tTRUE\tFALSE\t-100\t31\t165\tTRUE\t531673\t0.095985052019075\t607\t0.557610125494622\t1602\t8578\t0.618304476150245\t1.6545078849553\t59475000\t8\n",
      "20250605 212941\tbinary\tcustom\tTRUE\tTRUE\tFALSE\t-100\t31\t59\tTRUE\t531673\t0.199974035840132\t724\t0.648449921067471\t2721\t7590\t0.810821268910409\t0.769956268686136\t56550000\t9\n",
      "20250605 213023\tbinary\tcustom\tTRUE\tTRUE\tFALSE\t-100\t31\t294\tTRUE\t531673\t0.0738815511328201\t964\t0.850016497738293\t2922\t13945\t0.98915650294761\t1.16851222056097\t59325000\t10\n",
      "20250605 213130\tbinary\tcustom\tTRUE\tTRUE\tFALSE\t-100\t31\t403\tTRUE\t531673\t0.0832010613866649\t322\t0.458979304262071\t4204\t10703\t0.263610537036688\t0.537546844005452\t60300000\t11\n",
      "20250605 213144\tbinary\tcustom\tTRUE\tTRUE\tFALSE\t-100\t31\t403\tTRUE\t531673\t0.0832010613866649\t322\t0.458979304262071\t4204\t10703\t0.263610537036688\t0.537546844005452\t60300000\t11\n",
      "20250605 213209\tbinary\tcustom\tTRUE\tTRUE\tFALSE\t-100\t31\t147\tTRUE\t531673\t0.267949650859893\t755\t0.183329468085763\t6111\t7229\t0.47299220595908\t1.76300756390473\t54165000\t12\n",
      "20250605 213429\tbinary\tcustom\tTRUE\tTRUE\tFALSE\t-100\t31\t559\tTRUE\t531673\t0.0220850273053761\t487\t0.511272183863912\t486\t14331\t0.529578593608624\t1.80749375890342\t61050000\t13\n",
      "20250605 213503\tbinary\tcustom\tTRUE\tTRUE\tFALSE\t-100\t31\t559\tTRUE\t531673\t0.0220850273053761\t487\t0.511272183863912\t486\t14331\t0.529578593608624\t1.80749375890342\t61050000\t13\n",
      "20250605 213556\tbinary\tcustom\tTRUE\tTRUE\tFALSE\t-100\t31\t344\tTRUE\t531673\t0.0486500871402677\t166\t0.107349438853895\t3193\t6853\t0.737655731657287\t1.23024884867482\t56490000\t14\n",
      "20250605 213733\tbinary\tcustom\tTRUE\tTRUE\tFALSE\t-100\t31\t840\tTRUE\t531673\t0.0176044144351701\t86\t0.693662246503767\t6952\t13580\t0.241148398012488\t1.95896246828072\t58980000\t15\n",
      "20250605 213745\tbinary\tcustom\tTRUE\tTRUE\tFALSE\t-100\t31\t44\tTRUE\t531673\t0.291642341442223\t34\t0.901152621058282\t7642\t10869\t0.78668179048192\t0.287753528898715\t58005000\t16\n",
      "20250605 213757\tbinary\tcustom\tTRUE\tTRUE\tFALSE\t-100\t31\t38\tTRUE\t531673\t0.183548535216583\t855\t0.958067267550255\t6747\t5578\t0.316233938811846\t0.0632975952633257\t51915000\t17\n",
      "20250605 213814\tbinary\tcustom\tTRUE\tTRUE\tFALSE\t-100\t31\t109\tTRUE\t531673\t0.289020013349946\t837\t0.7582504495679\t4316\t13013\t0.431886953909582\t1.09559569883692\t58050000\t18\n",
      "20250605 213836\tbinary\tcustom\tTRUE\tTRUE\tFALSE\t-100\t31\t61\tTRUE\t531673\t0.115284451877482\t1002\t0.228148628566747\t702\t11440\t0.852149588803461\t0.437731937821289\t59280000\t19\n",
      "20250605 213856\tbinary\tcustom\tTRUE\tTRUE\tFALSE\t-100\t31\t60\tTRUE\t531673\t0.24936333545625\t253\t0.35232917738197\t1379\t11901\t0.87175687277174\t0.139769203295665\t58740000\t20\n",
      "20250605 213919\tbinary\tcustom\tTRUE\tTRUE\tFALSE\t-100\t31\t155\tTRUE\t531673\t0.147259188801649\t124\t0.720050159052646\t3931\t5926\t0.60040732370939\t1.92785353587741\t52545000\t21\n",
      "20250605 213952\tbinary\tcustom\tTRUE\tTRUE\tFALSE\t-100\t31\t199\tTRUE\t531673\t0.109135294038736\t682\t0.278354382614738\t5590\t13496\t0.750704999362019\t1.54460103889661\t59235000\t22\n",
      "20250605 214009\tbinary\tcustom\tTRUE\tTRUE\tFALSE\t-100\t31\t21\tTRUE\t531673\t0.241602296719627\t367\t0.519757761426237\t1093\t5087\t0.134251433760593\t0.212774473990846\t48825000\t23\n",
      "20250605 214107\tbinary\tcustom\tTRUE\tTRUE\tFALSE\t-100\t31\t460\tTRUE\t531673\t0.0321408272691769\t935\t0.988044942868042\t5365\t9281\t0.102127651494396\t1.42501066229306\t59760000\t24\n",
      "20250605 214131\tbinary\tcustom\tTRUE\tTRUE\tFALSE\t-100\t31\t137\tTRUE\t531673\t0.278481662024611\t419\t0.258839634281217\t7794\t10297\t0.198424880266456\t0.22038433812226\t57555000\t25\n",
      "20250605 214144\tbinary\tcustom\tTRUE\tTRUE\tFALSE\t-100\t31\t41\tTRUE\t531673\t0.224052872438666\t71\t0.906457475203622\t1829\t14703\t0.179221454893039\t0.98263880959712\t57900000\t26\n",
      "20250605 214241\tbinary\tcustom\tTRUE\tTRUE\tFALSE\t-100\t31\t390\tTRUE\t531673\t0.188312657033176\t885\t0.15910254950868\t70\t6353\t0.678011748263712\t1.62962491979956\t51990000\t27\n",
      "20250605 214311\tbinary\tcustom\tTRUE\tTRUE\tFALSE\t-100\t31\t216\tTRUE\t531673\t0.0720010664471192\t294\t0.828621284755146\t5807\t8128\t0.922572750663052\t0.413037753031988\t58305000\t28\n"
     ]
    },
    {
     "name": "stderr",
     "output_type": "stream",
     "text": [
      "[mbo] 0: learning_rate=0.163; num_leaves=789; feature_fraction=0.795; min_data_in_leaf=5015; envios=9810; bagging_fraction=0.687; lambda_l1=1.45 : y = 5.91e+07 : 29.0 secs : initdesign\n",
      "\n",
      "[mbo] 0: learning_rate=0.169; num_leaves=561; feature_fraction=0.318; min_data_in_leaf=4857; envios=9318; bagging_fraction=0.943; lambda_l1=1.05 : y = 5.91e+07 : 28.1 secs : initdesign\n",
      "\n",
      "[mbo] 0: learning_rate=0.213; num_leaves=642; feature_fraction=0.412; min_data_in_leaf=6417; envios=12850; bagging_fraction=0.404; lambda_l1=0.601 : y = 5.85e+07 : 24.2 secs : initdesign\n",
      "\n",
      "[mbo] 0: learning_rate=0.143; num_leaves=457; feature_fraction=0.451; min_data_in_leaf=3576; envios=11248; bagging_fraction=0.368; lambda_l1=1.32 : y = 5.97e+07 : 59.0 secs : initdesign\n",
      "\n",
      "[mbo] 0: learning_rate=0.0519; num_leaves=218; feature_fraction=0.374; min_data_in_leaf=2526; envios=12318; bagging_fraction=0.556; lambda_l1=0.841 : y = 5.91e+07 : 33.3 secs : initdesign\n",
      "\n",
      "[mbo] 0: learning_rate=0.127; num_leaves=547; feature_fraction=0.637; min_data_in_leaf=2053; envios=6730; bagging_fraction=0.335; lambda_l1=0.712 : y = 5.48e+07 : 29.2 secs : initdesign\n",
      "\n",
      "[mbo] 0: learning_rate=0.235; num_leaves=395; feature_fraction=0.591; min_data_in_leaf=7252; envios=8295; bagging_fraction=0.513; lambda_l1=0.91 : y = 5.85e+07 : 21.6 secs : initdesign\n",
      "\n",
      "[mbo] 0: learning_rate=0.096; num_leaves=607; feature_fraction=0.558; min_data_in_leaf=1602; envios=8578; bagging_fraction=0.618; lambda_l1=1.65 : y = 5.95e+07 : 39.5 secs : initdesign\n",
      "\n",
      "[mbo] 0: learning_rate=0.2; num_leaves=724; feature_fraction=0.648; min_data_in_leaf=2721; envios=7590; bagging_fraction=0.811; lambda_l1=0.77 : y = 5.66e+07 : 15.5 secs : initdesign\n",
      "\n",
      "[mbo] 0: learning_rate=0.0739; num_leaves=964; feature_fraction=0.85; min_data_in_leaf=2922; envios=13945; bagging_fraction=0.989; lambda_l1=1.17 : y = 5.93e+07 : 42.2 secs : initdesign\n",
      "\n",
      "[mbo] 0: learning_rate=0.0832; num_leaves=322; feature_fraction=0.459; min_data_in_leaf=4204; envios=10703; bagging_fraction=0.264; lambda_l1=0.538 : y = 6.03e+07 : 81.6 secs : initdesign\n",
      "\n",
      "[mbo] 0: learning_rate=0.268; num_leaves=755; feature_fraction=0.183; min_data_in_leaf=6111; envios=7229; bagging_fraction=0.473; lambda_l1=1.76 : y = 5.42e+07 : 24.1 secs : initdesign\n",
      "\n",
      "[mbo] 0: learning_rate=0.0221; num_leaves=487; feature_fraction=0.511; min_data_in_leaf=486; envios=14331; bagging_fraction=0.53; lambda_l1=1.81 : y = 6.1e+07 : 174.9 secs : initdesign\n",
      "\n",
      "[mbo] 0: learning_rate=0.0487; num_leaves=166; feature_fraction=0.107; min_data_in_leaf=3193; envios=6853; bagging_fraction=0.738; lambda_l1=1.23 : y = 5.65e+07 : 52.5 secs : initdesign\n",
      "\n",
      "[mbo] 0: learning_rate=0.0176; num_leaves=86; feature_fraction=0.694; min_data_in_leaf=6952; envios=13580; bagging_fraction=0.241; lambda_l1=1.96 : y = 5.9e+07 : 97.0 secs : initdesign\n",
      "\n",
      "[mbo] 0: learning_rate=0.292; num_leaves=34; feature_fraction=0.901; min_data_in_leaf=7642; envios=10869; bagging_fraction=0.787; lambda_l1=0.288 : y = 5.8e+07 : 11.6 secs : initdesign\n",
      "\n",
      "[mbo] 0: learning_rate=0.184; num_leaves=855; feature_fraction=0.958; min_data_in_leaf=6747; envios=5578; bagging_fraction=0.316; lambda_l1=0.0633 : y = 5.19e+07 : 11.3 secs : initdesign\n",
      "\n",
      "[mbo] 0: learning_rate=0.289; num_leaves=837; feature_fraction=0.758; min_data_in_leaf=4316; envios=13013; bagging_fraction=0.432; lambda_l1=1.1 : y = 5.8e+07 : 16.9 secs : initdesign\n",
      "\n",
      "[mbo] 0: learning_rate=0.115; num_leaves=1002; feature_fraction=0.228; min_data_in_leaf=702; envios=11440; bagging_fraction=0.852; lambda_l1=0.438 : y = 5.93e+07 : 22.6 secs : initdesign\n",
      "\n",
      "[mbo] 0: learning_rate=0.249; num_leaves=253; feature_fraction=0.352; min_data_in_leaf=1379; envios=11901; bagging_fraction=0.872; lambda_l1=0.14 : y = 5.87e+07 : 19.9 secs : initdesign\n",
      "\n",
      "[mbo] 0: learning_rate=0.147; num_leaves=124; feature_fraction=0.72; min_data_in_leaf=3931; envios=5926; bagging_fraction=0.6; lambda_l1=1.93 : y = 5.25e+07 : 22.7 secs : initdesign\n",
      "\n",
      "[mbo] 0: learning_rate=0.109; num_leaves=682; feature_fraction=0.278; min_data_in_leaf=5590; envios=13496; bagging_fraction=0.751; lambda_l1=1.54 : y = 5.92e+07 : 33.4 secs : initdesign\n",
      "\n",
      "[mbo] 0: learning_rate=0.242; num_leaves=367; feature_fraction=0.52; min_data_in_leaf=1093; envios=5087; bagging_fraction=0.134; lambda_l1=0.213 : y = 4.88e+07 : 16.4 secs : initdesign\n",
      "\n",
      "[mbo] 0: learning_rate=0.0321; num_leaves=935; feature_fraction=0.988; min_data_in_leaf=5365; envios=9281; bagging_fraction=0.102; lambda_l1=1.43 : y = 5.98e+07 : 58.1 secs : initdesign\n",
      "\n",
      "[mbo] 0: learning_rate=0.278; num_leaves=419; feature_fraction=0.259; min_data_in_leaf=7794; envios=10297; bagging_fraction=0.198; lambda_l1=0.22 : y = 5.76e+07 : 23.8 secs : initdesign\n",
      "\n",
      "[mbo] 0: learning_rate=0.224; num_leaves=71; feature_fraction=0.906; min_data_in_leaf=1829; envios=14703; bagging_fraction=0.179; lambda_l1=0.983 : y = 5.79e+07 : 13.4 secs : initdesign\n",
      "\n",
      "[mbo] 0: learning_rate=0.188; num_leaves=885; feature_fraction=0.159; min_data_in_leaf=70; envios=6353; bagging_fraction=0.678; lambda_l1=1.63 : y = 5.2e+07 : 56.9 secs : initdesign\n",
      "\n",
      "[mbo] 0: learning_rate=0.072; num_leaves=294; feature_fraction=0.829; min_data_in_leaf=5807; envios=8128; bagging_fraction=0.923; lambda_l1=0.413 : y = 5.83e+07 : 29.5 secs : initdesign\n",
      "\n",
      "Saved the current state after iteration 1 in the file 5431.RDATA.\n",
      "\n"
     ]
    },
    {
     "name": "stdout",
     "output_type": "stream",
     "text": [
      "20250605 214748\tbinary\tcustom\tTRUE\tTRUE\tFALSE\t-100\t31\t534\tTRUE\t531673\t0.0104476244117705\t905\t0.388980039034146\t3\t14508\t0.256006530527718\t1.62680338501962\t59085000\t29\n"
     ]
    },
    {
     "name": "stderr",
     "output_type": "stream",
     "text": [
      "[mbo] 1: learning_rate=0.0104; num_leaves=905; feature_fraction=0.389; min_data_in_leaf=3; envios=14508; bagging_fraction=0.256; lambda_l1=1.63 : y = 5.91e+07 : 272.3 secs : infill_ei\n",
      "\n"
     ]
    },
    {
     "name": "stdout",
     "output_type": "stream",
     "text": [
      "20250605 214957\tbinary\tcustom\tTRUE\tTRUE\tFALSE\t-100\t31\t586\tTRUE\t531673\t0.0289708078970794\t326\t0.537154478775717\t716\t14243\t0.840696569603071\t1.99733171106856\t60360000\t30\n"
     ]
    },
    {
     "name": "stderr",
     "output_type": "stream",
     "text": [
      "[mbo] 2: learning_rate=0.029; num_leaves=326; feature_fraction=0.537; min_data_in_leaf=716; envios=14243; bagging_fraction=0.841; lambda_l1=2 : y = 6.04e+07 : 127.7 secs : infill_ei\n",
      "\n"
     ]
    },
    {
     "name": "stdout",
     "output_type": "stream",
     "text": [
      "20250605 215321\tbinary\tcustom\tTRUE\tTRUE\tFALSE\t-100\t31\t1167\tTRUE\t531673\t0.0103072508205725\t489\t0.717775573060361\t1217\t9958\t0.357065821646693\t0.880745001890957\t62055000\t31\n",
      "20250605 215400\tbinary\tcustom\tTRUE\tTRUE\tFALSE\t-100\t31\t1167\tTRUE\t531673\t0.0103072508205725\t489\t0.717775573060361\t1217\t9958\t0.357065821646693\t0.880745001890957\t62055000\t31\n"
     ]
    },
    {
     "name": "stderr",
     "output_type": "stream",
     "text": [
      "[mbo] 3: learning_rate=0.0103; num_leaves=489; feature_fraction=0.718; min_data_in_leaf=1217; envios=9958; bagging_fraction=0.357; lambda_l1=0.881 : y = 6.21e+07 : 242.5 secs : infill_ei\n",
      "\n",
      "Saved the current state after iteration 4 in the file 5431.RDATA.\n",
      "\n"
     ]
    },
    {
     "name": "stdout",
     "output_type": "stream",
     "text": [
      "20250605 215843\tbinary\tcustom\tTRUE\tTRUE\tFALSE\t-100\t31\t647\tTRUE\t531673\t0.010769678763758\t530\t0.893582311273998\t40\t10590\t0.353597466592178\t0.547478091642244\t61230000\t32\n"
     ]
    },
    {
     "name": "stderr",
     "output_type": "stream",
     "text": [
      "[mbo] 4: learning_rate=0.0108; num_leaves=530; feature_fraction=0.894; min_data_in_leaf=40; envios=10590; bagging_fraction=0.354; lambda_l1=0.547 : y = 6.12e+07 : 276.3 secs : infill_ei\n",
      "\n"
     ]
    },
    {
     "name": "stdout",
     "output_type": "stream",
     "text": [
      "20250605 220232\tbinary\tcustom\tTRUE\tTRUE\tFALSE\t-100\t31\t749\tTRUE\t531673\t0.010191927820605\t324\t0.61022265578126\t289\t9576\t0.308890805696474\t0.994324453452695\t61635000\t33\n"
     ]
    },
    {
     "name": "stderr",
     "output_type": "stream",
     "text": [
      "[mbo] 5: learning_rate=0.0102; num_leaves=324; feature_fraction=0.61; min_data_in_leaf=289; envios=9576; bagging_fraction=0.309; lambda_l1=0.994 : y = 6.16e+07 : 228.1 secs : infill_ei\n",
      "\n"
     ]
    },
    {
     "name": "stdout",
     "output_type": "stream",
     "text": [
      "20250605 220546\tbinary\tcustom\tTRUE\tTRUE\tFALSE\t-100\t31\t1349\tTRUE\t531673\t0.0109455728982527\t324\t0.887947762704422\t2298\t9826\t0.329916121204536\t1.34775244889279\t59925000\t34\n"
     ]
    },
    {
     "name": "stderr",
     "output_type": "stream",
     "text": [
      "[mbo] 6: learning_rate=0.0109; num_leaves=324; feature_fraction=0.888; min_data_in_leaf=2298; envios=9826; bagging_fraction=0.33; lambda_l1=1.35 : y = 5.99e+07 : 194.2 secs : infill_ei\n",
      "\n",
      "Saved the current state after iteration 7 in the file 5431.RDATA.\n",
      "\n"
     ]
    },
    {
     "name": "stdout",
     "output_type": "stream",
     "text": [
      "20250605 220927\tbinary\tcustom\tTRUE\tTRUE\tFALSE\t-100\t31\t859\tTRUE\t531673\t0.0116894267678922\t548\t0.57407672222417\t704\t10141\t0.766014274210469\t0.586304376037058\t61260000\t35\n"
     ]
    },
    {
     "name": "stderr",
     "output_type": "stream",
     "text": [
      "[mbo] 7: learning_rate=0.0117; num_leaves=548; feature_fraction=0.574; min_data_in_leaf=704; envios=10141; bagging_fraction=0.766; lambda_l1=0.586 : y = 6.13e+07 : 213.6 secs : infill_ei\n",
      "\n"
     ]
    },
    {
     "name": "stdout",
     "output_type": "stream",
     "text": [
      "20250605 221305\tbinary\tcustom\tTRUE\tTRUE\tFALSE\t-100\t31\t805\tTRUE\t531673\t0.010976317684375\t661\t0.588942255787896\t554\t9788\t0.161978175773749\t0.604529175772487\t60765000\t36\n"
     ]
    },
    {
     "name": "stderr",
     "output_type": "stream",
     "text": [
      "[mbo] 8: learning_rate=0.011; num_leaves=661; feature_fraction=0.589; min_data_in_leaf=554; envios=9788; bagging_fraction=0.162; lambda_l1=0.605 : y = 6.08e+07 : 217.7 secs : infill_ei\n",
      "\n"
     ]
    },
    {
     "name": "stdout",
     "output_type": "stream",
     "text": [
      "20250605 221629\tbinary\tcustom\tTRUE\tTRUE\tFALSE\t-100\t31\t1049\tTRUE\t531673\t0.0103581472603415\t447\t0.662846933320854\t955\t10708\t0.411008299433326\t0.351119843851305\t61245000\t37\n"
     ]
    },
    {
     "name": "stderr",
     "output_type": "stream",
     "text": [
      "[mbo] 9: learning_rate=0.0104; num_leaves=447; feature_fraction=0.663; min_data_in_leaf=955; envios=10708; bagging_fraction=0.411; lambda_l1=0.351 : y = 6.12e+07 : 202.8 secs : infill_ei\n",
      "\n",
      "Saved the current state after iteration 10 in the file 5431.RDATA.\n",
      "\n"
     ]
    },
    {
     "name": "stdout",
     "output_type": "stream",
     "text": [
      "20250605 221933\tbinary\tcustom\tTRUE\tTRUE\tFALSE\t-100\t31\t523\tTRUE\t531673\t0.0140860316825432\t496\t0.588144519421782\t215\t10476\t0.468522323908949\t0.945205586331227\t60855000\t38\n"
     ]
    },
    {
     "name": "stderr",
     "output_type": "stream",
     "text": [
      "[mbo] 10: learning_rate=0.0141; num_leaves=496; feature_fraction=0.588; min_data_in_leaf=215; envios=10476; bagging_fraction=0.469; lambda_l1=0.945 : y = 6.09e+07 : 177.5 secs : infill_ei\n",
      "\n"
     ]
    },
    {
     "name": "stdout",
     "output_type": "stream",
     "text": [
      "20250605 222239\tbinary\tcustom\tTRUE\tTRUE\tFALSE\t-100\t31\t951\tTRUE\t531673\t0.0110664143157927\t454\t0.733609406208863\t951\t9438\t0.475758057900808\t0.416093504979415\t61575000\t39\n"
     ]
    },
    {
     "name": "stderr",
     "output_type": "stream",
     "text": [
      "[mbo] 11: learning_rate=0.0111; num_leaves=454; feature_fraction=0.734; min_data_in_leaf=951; envios=9438; bagging_fraction=0.476; lambda_l1=0.416 : y = 6.16e+07 : 185.3 secs : infill_ei\n",
      "\n"
     ]
    },
    {
     "name": "stdout",
     "output_type": "stream",
     "text": [
      "20250605 222634\tbinary\tcustom\tTRUE\tTRUE\tFALSE\t-100\t31\t548\tTRUE\t531673\t0.0101059089922908\t521\t0.770379272136891\t55\t13581\t0.397467800508687\t1.08457091755749\t59940000\t40\n"
     ]
    },
    {
     "name": "stderr",
     "output_type": "stream",
     "text": [
      "[mbo] 12: learning_rate=0.0101; num_leaves=521; feature_fraction=0.77; min_data_in_leaf=55; envios=13581; bagging_fraction=0.397; lambda_l1=1.08 : y = 5.99e+07 : 234.6 secs : infill_ei\n",
      "\n"
     ]
    },
    {
     "name": "stdout",
     "output_type": "stream",
     "text": [
      "20250605 222729\tbinary\tcustom\tTRUE\tTRUE\tFALSE\t-100\t31\t283\tTRUE\t531673\t0.0470740658543713\t383\t0.791779883166752\t1158\t9464\t0.478934545026983\t0.834646572493948\t61020000\t41\n"
     ]
    },
    {
     "name": "stderr",
     "output_type": "stream",
     "text": [
      "[mbo] 13: learning_rate=0.0471; num_leaves=383; feature_fraction=0.792; min_data_in_leaf=1158; envios=9464; bagging_fraction=0.479; lambda_l1=0.835 : y = 6.1e+07 : 54.4 secs : infill_ei\n",
      "\n",
      "Saved the current state after iteration 14 in the file 5431.RDATA.\n",
      "\n"
     ]
    },
    {
     "name": "stdout",
     "output_type": "stream",
     "text": [
      "20250605 223325\tbinary\tcustom\tTRUE\tTRUE\tFALSE\t-100\t31\t3248\tTRUE\t531673\t0.0102196665927047\t627\t0.609514800349806\t7868\t9864\t0.337280511418892\t0.943086641255531\t59940000\t42\n"
     ]
    },
    {
     "name": "stderr",
     "output_type": "stream",
     "text": [
      "[mbo] 14: learning_rate=0.0102; num_leaves=627; feature_fraction=0.61; min_data_in_leaf=7868; envios=9864; bagging_fraction=0.337; lambda_l1=0.943 : y = 5.99e+07 : 349.5 secs : infill_ei\n",
      "\n"
     ]
    },
    {
     "name": "stdout",
     "output_type": "stream",
     "text": [
      "20250605 223714\tbinary\tcustom\tTRUE\tTRUE\tFALSE\t-100\t31\t1317\tTRUE\t531673\t0.0100618343368904\t673\t0.699853388641821\t915\t9918\t0.284817115815419\t1.98569144331384\t61815000\t43\n"
     ]
    },
    {
     "name": "stderr",
     "output_type": "stream",
     "text": [
      "[mbo] 15: learning_rate=0.0101; num_leaves=673; feature_fraction=0.7; min_data_in_leaf=915; envios=9918; bagging_fraction=0.285; lambda_l1=1.99 : y = 6.18e+07 : 228.1 secs : infill_ei\n",
      "\n"
     ]
    },
    {
     "name": "stdout",
     "output_type": "stream",
     "text": [
      "20250605 223958\tbinary\tcustom\tTRUE\tTRUE\tFALSE\t-100\t31\t954\tTRUE\t531673\t0.0107762222812553\t921\t0.593127801212634\t3741\t14999\t0.340378886685404\t1.99632302103293\t58215000\t44\n"
     ]
    },
    {
     "name": "stderr",
     "output_type": "stream",
     "text": [
      "[mbo] 16: learning_rate=0.0108; num_leaves=921; feature_fraction=0.593; min_data_in_leaf=3741; envios=14999; bagging_fraction=0.34; lambda_l1=2 : y = 5.82e+07 : 163.4 secs : infill_ei\n",
      "\n",
      "Saved the current state after iteration 17 in the file 5431.RDATA.\n",
      "\n"
     ]
    },
    {
     "name": "stdout",
     "output_type": "stream",
     "text": [
      "20250605 224328\tbinary\tcustom\tTRUE\tTRUE\tFALSE\t-100\t31\t1175\tTRUE\t531673\t0.0106634494396699\t1020\t0.766987025291507\t1249\t9610\t0.956519716196395\t0.64325993853343\t61770000\t45\n"
     ]
    },
    {
     "name": "stderr",
     "output_type": "stream",
     "text": [
      "[mbo] 17: learning_rate=0.0107; num_leaves=1020; feature_fraction=0.767; min_data_in_leaf=1249; envios=9610; bagging_fraction=0.957; lambda_l1=0.643 : y = 6.18e+07 : 203.4 secs : infill_ei\n",
      "\n"
     ]
    },
    {
     "name": "stdout",
     "output_type": "stream",
     "text": [
      "20250605 224610\tbinary\tcustom\tTRUE\tTRUE\tFALSE\t-100\t31\t834\tTRUE\t531673\t0.010109862609797\t15\t0.430809665375454\t908\t9924\t0.241152488962981\t1.94902561872755\t60240000\t46\n"
     ]
    },
    {
     "name": "stderr",
     "output_type": "stream",
     "text": [
      "[mbo] 18: learning_rate=0.0101; num_leaves=15; feature_fraction=0.431; min_data_in_leaf=908; envios=9924; bagging_fraction=0.241; lambda_l1=1.95 : y = 6.02e+07 : 161.6 secs : infill_ei\n",
      "\n"
     ]
    },
    {
     "name": "stdout",
     "output_type": "stream",
     "text": [
      "20250605 224636\tbinary\tcustom\tTRUE\tTRUE\tFALSE\t-100\t31\t71\tTRUE\t531673\t0.186753764851276\t724\t0.518848423829987\t841\t14987\t0.721362221349301\t1.98952251382051\t58005000\t47\n"
     ]
    },
    {
     "name": "stderr",
     "output_type": "stream",
     "text": [
      "[mbo] 19: learning_rate=0.187; num_leaves=724; feature_fraction=0.519; min_data_in_leaf=841; envios=14987; bagging_fraction=0.721; lambda_l1=1.99 : y = 5.8e+07 : 24.3 secs : infill_ei\n",
      "\n"
     ]
    },
    {
     "name": "stdout",
     "output_type": "stream",
     "text": [
      "20250605 225045\tbinary\tcustom\tTRUE\tTRUE\tFALSE\t-100\t31\t1544\tTRUE\t531673\t0.0100658070310476\t986\t0.961308097092159\t1322\t10734\t0.920998387175151\t0.457573770700483\t61530000\t48\n"
     ]
    },
    {
     "name": "stderr",
     "output_type": "stream",
     "text": [
      "[mbo] 20: learning_rate=0.0101; num_leaves=986; feature_fraction=0.961; min_data_in_leaf=1322; envios=10734; bagging_fraction=0.921; lambda_l1=0.458 : y = 6.15e+07 : 249.7 secs : infill_ei\n",
      "\n",
      "Saved the current state after iteration 21 in the file 5431.RDATA.\n",
      "\n"
     ]
    },
    {
     "name": "stdout",
     "output_type": "stream",
     "text": [
      "20250605 225428\tbinary\tcustom\tTRUE\tTRUE\tFALSE\t-100\t31\t1174\tTRUE\t531673\t0.010279950123448\t543\t0.756044769300598\t840\t9577\t0.287907608873126\t1.57688034718993\t61515000\t49\n"
     ]
    },
    {
     "name": "stderr",
     "output_type": "stream",
     "text": [
      "[mbo] 21: learning_rate=0.0103; num_leaves=543; feature_fraction=0.756; min_data_in_leaf=840; envios=9577; bagging_fraction=0.288; lambda_l1=1.58 : y = 6.15e+07 : 216.2 secs : infill_ei\n",
      "\n"
     ]
    },
    {
     "name": "stdout",
     "output_type": "stream",
     "text": [
      "20250605 225718\tbinary\tcustom\tTRUE\tTRUE\tFALSE\t-100\t31\t851\tTRUE\t531673\t0.0109426506785751\t1007\t0.849603505836992\t1177\t9729\t0.354428486801017\t0.782976352150804\t60825000\t50\n"
     ]
    },
    {
     "name": "stderr",
     "output_type": "stream",
     "text": [
      "[mbo] 22: learning_rate=0.0109; num_leaves=1007; feature_fraction=0.85; min_data_in_leaf=1177; envios=9729; bagging_fraction=0.354; lambda_l1=0.783 : y = 6.08e+07 : 168.6 secs : infill_ei\n",
      "\n"
     ]
    },
    {
     "name": "stdout",
     "output_type": "stream",
     "text": [
      "20250605 230055\tbinary\tcustom\tTRUE\tTRUE\tFALSE\t-100\t31\t1380\tTRUE\t531673\t0.0105160713892825\t905\t0.652119925396554\t1519\t9954\t0.99727242372067\t1.9101081251783\t62190000\t51\n",
      "20250605 230136\tbinary\tcustom\tTRUE\tTRUE\tFALSE\t-100\t31\t1380\tTRUE\t531673\t0.0105160713892825\t905\t0.652119925396554\t1519\t9954\t0.99727242372067\t1.9101081251783\t62190000\t51\n"
     ]
    },
    {
     "name": "stderr",
     "output_type": "stream",
     "text": [
      "[mbo] 23: learning_rate=0.0105; num_leaves=905; feature_fraction=0.652; min_data_in_leaf=1519; envios=9954; bagging_fraction=0.997; lambda_l1=1.91 : y = 6.22e+07 : 257.2 secs : infill_ei\n",
      "\n",
      "Saved the current state after iteration 24 in the file 5431.RDATA.\n",
      "\n"
     ]
    },
    {
     "name": "stdout",
     "output_type": "stream",
     "text": [
      "20250605 230526\tbinary\tcustom\tTRUE\tTRUE\tFALSE\t-100\t31\t1459\tTRUE\t531673\t0.0101200837285204\t778\t0.783858665980631\t1646\t9722\t0.993554445887519\t0.784322974744787\t61920000\t52\n"
     ]
    },
    {
     "name": "stderr",
     "output_type": "stream",
     "text": [
      "[mbo] 24: learning_rate=0.0101; num_leaves=778; feature_fraction=0.784; min_data_in_leaf=1646; envios=9722; bagging_fraction=0.994; lambda_l1=0.784 : y = 6.19e+07 : 223.7 secs : infill_ei\n",
      "\n"
     ]
    },
    {
     "name": "stdout",
     "output_type": "stream",
     "text": [
      "20250605 230813\tbinary\tcustom\tTRUE\tTRUE\tFALSE\t-100\t31\t780\tTRUE\t531673\t0.0101464748690475\t986\t0.269612093054919\t1501\t10007\t0.984324141846378\t1.97669635340004\t60585000\t53\n"
     ]
    },
    {
     "name": "stderr",
     "output_type": "stream",
     "text": [
      "[mbo] 25: learning_rate=0.0101; num_leaves=986; feature_fraction=0.27; min_data_in_leaf=1501; envios=10007; bagging_fraction=0.984; lambda_l1=1.98 : y = 6.06e+07 : 166.3 secs : infill_ei\n",
      "\n"
     ]
    },
    {
     "name": "stdout",
     "output_type": "stream",
     "text": [
      "20250605 231127\tbinary\tcustom\tTRUE\tTRUE\tFALSE\t-100\t31\t1106\tTRUE\t531673\t0.0104092372378664\t947\t0.893607543598309\t1260\t9767\t0.952083718741819\t1.99505190686975\t61305000\t54\n"
     ]
    },
    {
     "name": "stderr",
     "output_type": "stream",
     "text": [
      "[mbo] 26: learning_rate=0.0104; num_leaves=947; feature_fraction=0.894; min_data_in_leaf=1260; envios=9767; bagging_fraction=0.952; lambda_l1=2 : y = 6.13e+07 : 193.4 secs : infill_ei\n",
      "\n"
     ]
    },
    {
     "name": "stdout",
     "output_type": "stream",
     "text": [
      "20250605 231554\tbinary\tcustom\tTRUE\tTRUE\tFALSE\t-100\t31\t2260\tTRUE\t531673\t0.0101633495945931\t941\t0.661342572327481\t3822\t10025\t0.996159952446779\t0.525235704601437\t60645000\t55\n"
     ]
    },
    {
     "name": "stderr",
     "output_type": "stream",
     "text": [
      "[mbo] 27: learning_rate=0.0102; num_leaves=941; feature_fraction=0.661; min_data_in_leaf=3822; envios=10025; bagging_fraction=0.996; lambda_l1=0.525 : y = 6.06e+07 : 266.1 secs : infill_ei\n",
      "\n",
      "Saved the current state after iteration 28 in the file 5431.RDATA.\n",
      "\n"
     ]
    },
    {
     "name": "stdout",
     "output_type": "stream",
     "text": [
      "20250605 231800\tbinary\tcustom\tTRUE\tTRUE\tFALSE\t-100\t31\t830\tTRUE\t531673\t0.0284269929837379\t492\t0.101188521108074\t990\t14417\t0.840428584515803\t1.82428127863776\t59595000\t56\n"
     ]
    },
    {
     "name": "stderr",
     "output_type": "stream",
     "text": [
      "[mbo] 28: learning_rate=0.0284; num_leaves=492; feature_fraction=0.101; min_data_in_leaf=990; envios=14417; bagging_fraction=0.84; lambda_l1=1.82 : y = 5.96e+07 : 119.3 secs : infill_ei\n",
      "\n"
     ]
    },
    {
     "name": "stdout",
     "output_type": "stream",
     "text": [
      "20250605 232124\tbinary\tcustom\tTRUE\tTRUE\tFALSE\t-100\t31\t1154\tTRUE\t531673\t0.0103690927188536\t932\t0.67427861624901\t1180\t11253\t0.972482305675627\t1.77772058831445\t60570000\t57\n"
     ]
    },
    {
     "name": "stderr",
     "output_type": "stream",
     "text": [
      "[mbo] 29: learning_rate=0.0104; num_leaves=932; feature_fraction=0.674; min_data_in_leaf=1180; envios=11253; bagging_fraction=0.972; lambda_l1=1.78 : y = 6.06e+07 : 203.4 secs : infill_ei\n",
      "\n"
     ]
    },
    {
     "name": "stdout",
     "output_type": "stream",
     "text": [
      "20250605 232227\tbinary\tcustom\tTRUE\tTRUE\tFALSE\t-100\t31\t456\tTRUE\t531673\t0.0353136546463786\t986\t0.633610972527153\t6517\t9429\t0.997645343516697\t1.99950754577612\t59685000\t58\n"
     ]
    },
    {
     "name": "stderr",
     "output_type": "stream",
     "text": [
      "[mbo] 30: learning_rate=0.0353; num_leaves=986; feature_fraction=0.634; min_data_in_leaf=6517; envios=9429; bagging_fraction=0.998; lambda_l1=2 : y = 5.97e+07 : 65.8 secs : infill_ei\n",
      "\n"
     ]
    },
    {
     "name": "stdout",
     "output_type": "stream",
     "text": [
      "20250605 232643\tbinary\tcustom\tTRUE\tTRUE\tFALSE\t-100\t31\t1432\tTRUE\t531673\t0.0100292112914413\t482\t0.506127883320837\t5326\t9889\t0.130650982270173\t1.96117229560147\t59265000\t59\n"
     ]
    },
    {
     "name": "stderr",
     "output_type": "stream",
     "text": [
      "[mbo] 31: learning_rate=0.01; num_leaves=482; feature_fraction=0.506; min_data_in_leaf=5326; envios=9889; bagging_fraction=0.131; lambda_l1=1.96 : y = 5.93e+07 : 251.6 secs : infill_ei\n",
      "\n",
      "Saved the current state after iteration 32 in the file 5431.RDATA.\n",
      "\n"
     ]
    },
    {
     "name": "stdout",
     "output_type": "stream",
     "text": [
      "20250605 232706\tbinary\tcustom\tTRUE\tTRUE\tFALSE\t-100\t31\t69\tTRUE\t531673\t0.104709768409821\t432\t0.997554629595239\t7980\t14596\t0.194195507745422\t0.933376333506729\t57375000\t60\n"
     ]
    },
    {
     "name": "stderr",
     "output_type": "stream",
     "text": [
      "[mbo] 32: learning_rate=0.105; num_leaves=432; feature_fraction=0.998; min_data_in_leaf=7980; envios=14596; bagging_fraction=0.194; lambda_l1=0.933 : y = 5.74e+07 : 15.5 secs : infill_ei\n",
      "\n"
     ]
    },
    {
     "name": "stdout",
     "output_type": "stream",
     "text": [
      "20250605 233111\tbinary\tcustom\tTRUE\tTRUE\tFALSE\t-100\t31\t1288\tTRUE\t531673\t0.0100387967677497\t562\t0.686470588040373\t956\t9655\t0.999206866289834\t1.01646743769095\t61275000\t61\n"
     ]
    },
    {
     "name": "stderr",
     "output_type": "stream",
     "text": [
      "[mbo] 33: learning_rate=0.01; num_leaves=562; feature_fraction=0.686; min_data_in_leaf=956; envios=9655; bagging_fraction=0.999; lambda_l1=1.02 : y = 6.13e+07 : 245.6 secs : infill_ei\n",
      "\n"
     ]
    },
    {
     "name": "stdout",
     "output_type": "stream",
     "text": [
      "20250605 233159\tbinary\tcustom\tTRUE\tTRUE\tFALSE\t-100\t31\t259\tTRUE\t531673\t0.0712675790563765\t844\t0.73550593438466\t1603\t10076\t0.952925846245012\t0.156448251078451\t60375000\t62\n"
     ]
    },
    {
     "name": "stderr",
     "output_type": "stream",
     "text": [
      "[mbo] 34: learning_rate=0.0713; num_leaves=844; feature_fraction=0.736; min_data_in_leaf=1603; envios=10076; bagging_fraction=0.953; lambda_l1=0.156 : y = 6.04e+07 : 46.4 secs : infill_ei\n",
      "\n"
     ]
    },
    {
     "name": "stdout",
     "output_type": "stream",
     "text": [
      "20250605 233544\tbinary\tcustom\tTRUE\tTRUE\tFALSE\t-100\t31\t1189\tTRUE\t531673\t0.0102214522949315\t701\t0.716024863154273\t1065\t14895\t0.992328928101284\t0.100841121932416\t60075000\t63\n"
     ]
    },
    {
     "name": "stderr",
     "output_type": "stream",
     "text": [
      "[mbo] 35: learning_rate=0.0102; num_leaves=701; feature_fraction=0.716; min_data_in_leaf=1065; envios=14895; bagging_fraction=0.992; lambda_l1=0.101 : y = 6.01e+07 : 224.9 secs : infill_ei\n",
      "\n"
     ]
    },
    {
     "name": "stdout",
     "output_type": "stream",
     "text": [
      "20250605 233623\tbinary\tcustom\tTRUE\tTRUE\tFALSE\t-100\t31\t302\tTRUE\t531673\t0.0953796733161628\t10\t0.120534619939627\t26\t14996\t0.216691794154431\t0.194403021655061\t58215000\t64\n"
     ]
    },
    {
     "name": "stderr",
     "output_type": "stream",
     "text": [
      "[mbo] 36: learning_rate=0.0954; num_leaves=10; feature_fraction=0.121; min_data_in_leaf=26; envios=14996; bagging_fraction=0.217; lambda_l1=0.194 : y = 5.82e+07 : 38.1 secs : infill_ei\n",
      "\n"
     ]
    },
    {
     "name": "stdout",
     "output_type": "stream",
     "text": [
      "20250605 233916\tbinary\tcustom\tTRUE\tTRUE\tFALSE\t-100\t31\t973\tTRUE\t531673\t0.0115374306853431\t397\t0.999362802127102\t1503\t14053\t0.315111751042338\t0.0310909181278017\t60930000\t65\n"
     ]
    },
    {
     "name": "stderr",
     "output_type": "stream",
     "text": [
      "[mbo] 37: learning_rate=0.0115; num_leaves=397; feature_fraction=0.999; min_data_in_leaf=1503; envios=14053; bagging_fraction=0.315; lambda_l1=0.0311 : y = 6.09e+07 : 172.8 secs : infill_ei\n",
      "\n",
      "Saved the current state after iteration 38 in the file 5431.RDATA.\n",
      "\n"
     ]
    },
    {
     "name": "stdout",
     "output_type": "stream",
     "text": [
      "20250605 234332\tbinary\tcustom\tTRUE\tTRUE\tFALSE\t-100\t31\t1551\tTRUE\t531673\t0.0100775569659898\t840\t0.640927404322444\t1514\t9428\t0.877791405495431\t1.91116964922479\t61245000\t66\n"
     ]
    },
    {
     "name": "stderr",
     "output_type": "stream",
     "text": [
      "[mbo] 38: learning_rate=0.0101; num_leaves=840; feature_fraction=0.641; min_data_in_leaf=1514; envios=9428; bagging_fraction=0.878; lambda_l1=1.91 : y = 6.12e+07 : 248.9 secs : infill_ei\n",
      "\n"
     ]
    },
    {
     "name": "stdout",
     "output_type": "stream",
     "text": [
      "20250605 234408\tbinary\tcustom\tTRUE\tTRUE\tFALSE\t-100\t31\t89\tTRUE\t531673\t0.0667216116636219\t133\t0.670951588265373\t272\t9993\t0.20922388486128\t0.317978974561008\t60870000\t67\n"
     ]
    },
    {
     "name": "stderr",
     "output_type": "stream",
     "text": [
      "[mbo] 39: learning_rate=0.0667; num_leaves=133; feature_fraction=0.671; min_data_in_leaf=272; envios=9993; bagging_fraction=0.209; lambda_l1=0.318 : y = 6.09e+07 : 34.7 secs : infill_ei\n",
      "\n"
     ]
    },
    {
     "name": "stdout",
     "output_type": "stream",
     "text": [
      "20250605 234627\tbinary\tcustom\tTRUE\tTRUE\tFALSE\t-100\t31\t1168\tTRUE\t531673\t0.0107396411010841\t20\t0.99978277034231\t758\t14236\t0.833033597587779\t0.144069561754814\t59055000\t68\n"
     ]
    },
    {
     "name": "stderr",
     "output_type": "stream",
     "text": [
      "[mbo] 40: learning_rate=0.0107; num_leaves=20; feature_fraction=1; min_data_in_leaf=758; envios=14236; bagging_fraction=0.833; lambda_l1=0.144 : y = 5.91e+07 : 138.5 secs : infill_ei\n",
      "\n"
     ]
    },
    {
     "name": "stdout",
     "output_type": "stream",
     "text": [
      "20250605 234919\tbinary\tcustom\tTRUE\tTRUE\tFALSE\t-100\t31\t657\tTRUE\t531673\t0.0129094932465771\t351\t0.547484261182555\t768\t13912\t0.112877897618137\t1.99726754769631\t60510000\t69\n"
     ]
    },
    {
     "name": "stderr",
     "output_type": "stream",
     "text": [
      "[mbo] 41: learning_rate=0.0129; num_leaves=351; feature_fraction=0.547; min_data_in_leaf=768; envios=13912; bagging_fraction=0.113; lambda_l1=2 : y = 6.05e+07 : 171.5 secs : infill_ei\n",
      "\n"
     ]
    },
    {
     "name": "stdout",
     "output_type": "stream",
     "text": [
      "20250605 235344\tbinary\tcustom\tTRUE\tTRUE\tFALSE\t-100\t31\t2517\tTRUE\t531673\t0.0103160654930246\t504\t0.999690008651712\t5680\t11115\t0.103678932387206\t0.276654326583496\t60135000\t70\n"
     ]
    },
    {
     "name": "stderr",
     "output_type": "stream",
     "text": [
      "[mbo] 42: learning_rate=0.0103; num_leaves=504; feature_fraction=1; min_data_in_leaf=5680; envios=11115; bagging_fraction=0.104; lambda_l1=0.277 : y = 6.01e+07 : 264.4 secs : infill_ei\n",
      "\n",
      "Saved the current state after iteration 43 in the file 5431.RDATA.\n",
      "\n"
     ]
    },
    {
     "name": "stdout",
     "output_type": "stream",
     "text": [
      "20250605 235703\tbinary\tcustom\tTRUE\tTRUE\tFALSE\t-100\t31\t1728\tTRUE\t531673\t0.0107289041931768\t37\t0.722521698984181\t6426\t9123\t0.183398676822154\t0.614603796835115\t59040000\t71\n"
     ]
    },
    {
     "name": "stderr",
     "output_type": "stream",
     "text": [
      "[mbo] 43: learning_rate=0.0107; num_leaves=37; feature_fraction=0.723; min_data_in_leaf=6426; envios=9123; bagging_fraction=0.183; lambda_l1=0.615 : y = 5.9e+07 : 191.8 secs : infill_ei\n",
      "\n"
     ]
    },
    {
     "name": "stdout",
     "output_type": "stream",
     "text": [
      "20250606 000103\tbinary\tcustom\tTRUE\tTRUE\tFALSE\t-100\t31\t1811\tTRUE\t531673\t0.0106868886854409\t447\t0.13015167741706\t4766\t14311\t0.896663933974878\t0.00484896836453321\t57030000\t72\n"
     ]
    },
    {
     "name": "stderr",
     "output_type": "stream",
     "text": [
      "[mbo] 44: learning_rate=0.0107; num_leaves=447; feature_fraction=0.13; min_data_in_leaf=4766; envios=14311; bagging_fraction=0.897; lambda_l1=0.00485 : y = 5.7e+07 : 239.4 secs : infill_ei\n",
      "\n"
     ]
    },
    {
     "name": "stdout",
     "output_type": "stream",
     "text": [
      "20250606 000407\tbinary\tcustom\tTRUE\tTRUE\tFALSE\t-100\t31\t759\tTRUE\t531673\t0.0118545871530688\t1023\t0.983249370428694\t722\t14451\t0.587688064657413\t0.0205120225797433\t60330000\t73\n"
     ]
    },
    {
     "name": "stderr",
     "output_type": "stream",
     "text": [
      "[mbo] 45: learning_rate=0.0119; num_leaves=1023; feature_fraction=0.983; min_data_in_leaf=722; envios=14451; bagging_fraction=0.588; lambda_l1=0.0205 : y = 6.03e+07 : 183.7 secs : infill_ei\n",
      "\n",
      "Saved the current state after iteration 46 in the file 5431.RDATA.\n",
      "\n"
     ]
    },
    {
     "name": "stdout",
     "output_type": "stream",
     "text": [
      "20250606 000435\tbinary\tcustom\tTRUE\tTRUE\tFALSE\t-100\t31\t71\tTRUE\t531673\t0.177361140441043\t310\t0.50489972809854\t7998\t12608\t0.999494100713935\t1.99371827643553\t58545000\t74\n"
     ]
    },
    {
     "name": "stderr",
     "output_type": "stream",
     "text": [
      "[mbo] 46: learning_rate=0.177; num_leaves=310; feature_fraction=0.505; min_data_in_leaf=7998; envios=12608; bagging_fraction=0.999; lambda_l1=1.99 : y = 5.85e+07 : 19.8 secs : infill_ei\n",
      "\n"
     ]
    },
    {
     "name": "stdout",
     "output_type": "stream",
     "text": [
      "20250606 000458\tbinary\tcustom\tTRUE\tTRUE\tFALSE\t-100\t31\t133\tTRUE\t531673\t0.074404866526619\t997\t0.940140416256695\t7985\t10755\t0.102823493825928\t1.8950514371899\t58215000\t75\n"
     ]
    },
    {
     "name": "stderr",
     "output_type": "stream",
     "text": [
      "[mbo] 47: learning_rate=0.0744; num_leaves=997; feature_fraction=0.94; min_data_in_leaf=7985; envios=10755; bagging_fraction=0.103; lambda_l1=1.9 : y = 5.82e+07 : 22.0 secs : infill_ei\n",
      "\n"
     ]
    },
    {
     "name": "stdout",
     "output_type": "stream",
     "text": [
      "20250606 000941\tbinary\tcustom\tTRUE\tTRUE\tFALSE\t-100\t31\t1916\tTRUE\t531673\t0.0101628120451225\t78\t0.114308904108156\t986\t9752\t0.34880671490404\t0.544032766085869\t60630000\t76\n"
     ]
    },
    {
     "name": "stderr",
     "output_type": "stream",
     "text": [
      "[mbo] 48: learning_rate=0.0102; num_leaves=78; feature_fraction=0.114; min_data_in_leaf=986; envios=9752; bagging_fraction=0.349; lambda_l1=0.544 : y = 6.06e+07 : 283.3 secs : infill_ei\n",
      "\n"
     ]
    },
    {
     "name": "stdout",
     "output_type": "stream",
     "text": [
      "20250606 001017\tbinary\tcustom\tTRUE\tTRUE\tFALSE\t-100\t31\t59\tTRUE\t531673\t0.0987179369325644\t499\t0.663248994042232\t15\t9999\t0.300549604373171\t1.97790178019326\t56895000\t77\n"
     ]
    },
    {
     "name": "stderr",
     "output_type": "stream",
     "text": [
      "[mbo] 49: learning_rate=0.0987; num_leaves=499; feature_fraction=0.663; min_data_in_leaf=15; envios=9999; bagging_fraction=0.301; lambda_l1=1.98 : y = 5.69e+07 : 34.2 secs : infill_ei\n",
      "\n"
     ]
    },
    {
     "name": "stdout",
     "output_type": "stream",
     "text": [
      "20250606 001446\tbinary\tcustom\tTRUE\tTRUE\tFALSE\t-100\t31\t1874\tTRUE\t531673\t0.0101183386285937\t874\t0.750744326307364\t1517\t10170\t0.935422189193858\t1.30186279445201\t61770000\t78\n"
     ]
    },
    {
     "name": "stderr",
     "output_type": "stream",
     "text": [
      "[mbo] 50: learning_rate=0.0101; num_leaves=874; feature_fraction=0.751; min_data_in_leaf=1517; envios=10170; bagging_fraction=0.935; lambda_l1=1.3 : y = 6.18e+07 : 269.8 secs : infill_ei\n",
      "\n",
      "Saved the current state after iteration 51 in the file 5431.RDATA.\n",
      "\n"
     ]
    },
    {
     "name": "stdout",
     "output_type": "stream",
     "text": [
      "20250606 001818\tbinary\tcustom\tTRUE\tTRUE\tFALSE\t-100\t31\t1339\tTRUE\t531673\t0.0101379934953719\t989\t0.698570520611893\t1789\t9907\t0.892746579888137\t1.00981468895698\t60765000\t79\n"
     ]
    },
    {
     "name": "stderr",
     "output_type": "stream",
     "text": [
      "[mbo] 51: learning_rate=0.0101; num_leaves=989; feature_fraction=0.699; min_data_in_leaf=1789; envios=9907; bagging_fraction=0.893; lambda_l1=1.01 : y = 6.08e+07 : 204.7 secs : infill_ei\n",
      "\n"
     ]
    },
    {
     "name": "stdout",
     "output_type": "stream",
     "text": [
      "20250606 001929\tbinary\tcustom\tTRUE\tTRUE\tFALSE\t-100\t31\t326\tTRUE\t531673\t0.0219831620133434\t598\t0.987116975444219\t1247\t14309\t0.310377990839883\t1.59049252179184\t61245000\t80\n"
     ]
    },
    {
     "name": "stderr",
     "output_type": "stream",
     "text": [
      "[mbo] 52: learning_rate=0.022; num_leaves=598; feature_fraction=0.987; min_data_in_leaf=1247; envios=14309; bagging_fraction=0.31; lambda_l1=1.59 : y = 6.12e+07 : 69.9 secs : infill_ei\n",
      "\n"
     ]
    },
    {
     "name": "stdout",
     "output_type": "stream",
     "text": [
      "20250606 002110\tbinary\tcustom\tTRUE\tTRUE\tFALSE\t-100\t31\t899\tTRUE\t531673\t0.059187143644834\t582\t0.613694286196699\t6055\t10906\t0.981407050938438\t0.825024194375874\t60885000\t81\n"
     ]
    },
    {
     "name": "stderr",
     "output_type": "stream",
     "text": [
      "[mbo] 53: learning_rate=0.0592; num_leaves=582; feature_fraction=0.614; min_data_in_leaf=6055; envios=10906; bagging_fraction=0.981; lambda_l1=0.825 : y = 6.09e+07 : 100.6 secs : infill_ei\n",
      "\n"
     ]
    },
    {
     "name": "stdout",
     "output_type": "stream",
     "text": [
      "20250606 002158\tbinary\tcustom\tTRUE\tTRUE\tFALSE\t-100\t31\t258\tTRUE\t531673\t0.0720347069123454\t653\t0.733067967603596\t1358\t14096\t0.381112854811778\t0.548812626852395\t61395000\t82\n"
     ]
    },
    {
     "name": "stderr",
     "output_type": "stream",
     "text": [
      "[mbo] 54: learning_rate=0.072; num_leaves=653; feature_fraction=0.733; min_data_in_leaf=1358; envios=14096; bagging_fraction=0.381; lambda_l1=0.549 : y = 6.14e+07 : 46.2 secs : infill_ei\n",
      "\n"
     ]
    },
    {
     "name": "stdout",
     "output_type": "stream",
     "text": [
      "20250606 002232\tbinary\tcustom\tTRUE\tTRUE\tFALSE\t-100\t31\t262\tTRUE\t531673\t0.10184895951901\t721\t0.950589083251778\t4552\t11577\t0.994040062713508\t0.554109308001643\t60315000\t83\n"
     ]
    },
    {
     "name": "stderr",
     "output_type": "stream",
     "text": [
      "[mbo] 55: learning_rate=0.102; num_leaves=721; feature_fraction=0.951; min_data_in_leaf=4552; envios=11577; bagging_fraction=0.994; lambda_l1=0.554 : y = 6.03e+07 : 33.3 secs : infill_ei\n",
      "\n"
     ]
    },
    {
     "name": "stdout",
     "output_type": "stream",
     "text": [
      "20250606 002340\tbinary\tcustom\tTRUE\tTRUE\tFALSE\t-100\t31\t239\tTRUE\t531673\t0.0167645458282108\t484\t0.725336503932861\t1341\t14591\t0.114366223633154\t0.763775864065072\t59190000\t84\n"
     ]
    },
    {
     "name": "stderr",
     "output_type": "stream",
     "text": [
      "[mbo] 56: learning_rate=0.0168; num_leaves=484; feature_fraction=0.725; min_data_in_leaf=1341; envios=14591; bagging_fraction=0.114; lambda_l1=0.764 : y = 5.92e+07 : 67.4 secs : infill_ei\n",
      "\n"
     ]
    },
    {
     "name": "stdout",
     "output_type": "stream",
     "text": [
      "20250606 002619\tbinary\tcustom\tTRUE\tTRUE\tFALSE\t-100\t31\t1326\tTRUE\t531673\t0.0129567424409767\t680\t0.942924309020549\t4365\t10762\t0.999495967504227\t1.17863590080178\t6e+07\t85\n"
     ]
    },
    {
     "name": "stderr",
     "output_type": "stream",
     "text": [
      "[mbo] 57: learning_rate=0.013; num_leaves=680; feature_fraction=0.943; min_data_in_leaf=4365; envios=10762; bagging_fraction=0.999; lambda_l1=1.18 : y = 6e+07 : 158.6 secs : infill_ei\n",
      "\n",
      "Saved the current state after iteration 58 in the file 5431.RDATA.\n",
      "\n"
     ]
    },
    {
     "name": "stdout",
     "output_type": "stream",
     "text": [
      "20250606 002712\tbinary\tcustom\tTRUE\tTRUE\tFALSE\t-100\t31\t292\tTRUE\t531673\t0.03341887392543\t783\t0.647318857466864\t5983\t10118\t0.51037512992952\t0.0401082316152457\t58935000\t86\n"
     ]
    },
    {
     "name": "stderr",
     "output_type": "stream",
     "text": [
      "[mbo] 58: learning_rate=0.0334; num_leaves=783; feature_fraction=0.647; min_data_in_leaf=5983; envios=10118; bagging_fraction=0.51; lambda_l1=0.0401 : y = 5.89e+07 : 45.4 secs : infill_ei\n",
      "\n"
     ]
    },
    {
     "name": "stdout",
     "output_type": "stream",
     "text": [
      "20250606 002740\tbinary\tcustom\tTRUE\tTRUE\tFALSE\t-100\t31\t122\tTRUE\t531673\t0.106128179806244\t743\t0.906610506150814\t1434\t13347\t0.451446371489605\t0.015948480004918\t60165000\t87\n"
     ]
    },
    {
     "name": "stderr",
     "output_type": "stream",
     "text": [
      "[mbo] 59: learning_rate=0.106; num_leaves=743; feature_fraction=0.907; min_data_in_leaf=1434; envios=13347; bagging_fraction=0.451; lambda_l1=0.0159 : y = 6.02e+07 : 27.4 secs : infill_ei\n",
      "\n"
     ]
    },
    {
     "name": "stdout",
     "output_type": "stream",
     "text": [
      "20250606 002810\tbinary\tcustom\tTRUE\tTRUE\tFALSE\t-100\t31\t110\tTRUE\t531673\t0.086961243141999\t259\t0.477928608388601\t5651\t11567\t0.800633995521315\t0.849659225076844\t58545000\t88\n"
     ]
    },
    {
     "name": "stderr",
     "output_type": "stream",
     "text": [
      "[mbo] 60: learning_rate=0.087; num_leaves=259; feature_fraction=0.478; min_data_in_leaf=5651; envios=11567; bagging_fraction=0.801; lambda_l1=0.85 : y = 5.85e+07 : 29.2 secs : infill_ei\n",
      "\n"
     ]
    },
    {
     "name": "stdout",
     "output_type": "stream",
     "text": [
      "20250606 002848\tbinary\tcustom\tTRUE\tTRUE\tFALSE\t-100\t31\t144\tTRUE\t531673\t0.0566709053185109\t637\t0.96750852462067\t760\t13998\t0.578990988916936\t1.52651059401045\t60615000\t89\n"
     ]
    },
    {
     "name": "stderr",
     "output_type": "stream",
     "text": [
      "[mbo] 61: learning_rate=0.0567; num_leaves=637; feature_fraction=0.968; min_data_in_leaf=760; envios=13998; bagging_fraction=0.579; lambda_l1=1.53 : y = 6.06e+07 : 37.4 secs : infill_ei\n",
      "\n"
     ]
    },
    {
     "name": "stdout",
     "output_type": "stream",
     "text": [
      "20250606 003250\tbinary\tcustom\tTRUE\tTRUE\tFALSE\t-100\t31\t1570\tTRUE\t531673\t0.0106523922105896\t766\t0.838479581742007\t1521\t13956\t0.746084474722755\t0.131231491526599\t60975000\t90\n"
     ]
    },
    {
     "name": "stderr",
     "output_type": "stream",
     "text": [
      "[mbo] 62: learning_rate=0.0107; num_leaves=766; feature_fraction=0.838; min_data_in_leaf=1521; envios=13956; bagging_fraction=0.746; lambda_l1=0.131 : y = 6.1e+07 : 241.6 secs : infill_ei\n",
      "\n"
     ]
    },
    {
     "name": "stdout",
     "output_type": "stream",
     "text": [
      "20250606 003331\tbinary\tcustom\tTRUE\tTRUE\tFALSE\t-100\t31\t338\tTRUE\t531673\t0.0631494531740405\t973\t0.99902532456501\t7152\t10453\t0.999270757745422\t0.74689676928754\t59610000\t91\n"
     ]
    },
    {
     "name": "stderr",
     "output_type": "stream",
     "text": [
      "[mbo] 63: learning_rate=0.0631; num_leaves=973; feature_fraction=0.999; min_data_in_leaf=7152; envios=10453; bagging_fraction=0.999; lambda_l1=0.747 : y = 5.96e+07 : 39.7 secs : infill_ei\n",
      "\n"
     ]
    },
    {
     "name": "stdout",
     "output_type": "stream",
     "text": [
      "20250606 003629\tbinary\tcustom\tTRUE\tTRUE\tFALSE\t-100\t31\t1027\tTRUE\t531673\t0.0102685067265339\t637\t0.963816097035954\t1354\t10427\t0.752258538638823\t1.51885402582482\t60885000\t92\n"
     ]
    },
    {
     "name": "stderr",
     "output_type": "stream",
     "text": [
      "[mbo] 64: learning_rate=0.0103; num_leaves=637; feature_fraction=0.964; min_data_in_leaf=1354; envios=10427; bagging_fraction=0.752; lambda_l1=1.52 : y = 6.09e+07 : 177.7 secs : infill_ei\n",
      "\n",
      "Saved the current state after iteration 65 in the file 5431.RDATA.\n",
      "\n"
     ]
    },
    {
     "name": "stdout",
     "output_type": "stream",
     "text": [
      "20250606 003723\tbinary\tcustom\tTRUE\tTRUE\tFALSE\t-100\t31\t204\tTRUE\t531673\t0.0525916961033444\t758\t0.598905711906644\t1570\t9989\t0.999657506267911\t1.66478122584562\t61725000\t93\n"
     ]
    },
    {
     "name": "stderr",
     "output_type": "stream",
     "text": [
      "[mbo] 65: learning_rate=0.0526; num_leaves=758; feature_fraction=0.599; min_data_in_leaf=1570; envios=9989; bagging_fraction=1; lambda_l1=1.66 : y = 6.17e+07 : 45.6 secs : infill_ei\n",
      "\n"
     ]
    },
    {
     "name": "stdout",
     "output_type": "stream",
     "text": [
      "20250606 004033\tbinary\tcustom\tTRUE\tTRUE\tFALSE\t-100\t31\t1092\tTRUE\t531673\t0.0105854602151346\t631\t0.749454484180595\t1282\t9925\t0.357283691314979\t0.762581833071657\t61665000\t94\n"
     ]
    },
    {
     "name": "stderr",
     "output_type": "stream",
     "text": [
      "[mbo] 66: learning_rate=0.0106; num_leaves=631; feature_fraction=0.749; min_data_in_leaf=1282; envios=9925; bagging_fraction=0.357; lambda_l1=0.763 : y = 6.17e+07 : 189.5 secs : infill_ei\n",
      "\n"
     ]
    },
    {
     "name": "stdout",
     "output_type": "stream",
     "text": [
      "20250606 004132\tbinary\tcustom\tTRUE\tTRUE\tFALSE\t-100\t31\t239\tTRUE\t531673\t0.0217092385828264\t301\t0.661322337113322\t1504\t13776\t0.405129611069056\t1.76575938952438\t59355000\t95\n"
     ]
    },
    {
     "name": "stderr",
     "output_type": "stream",
     "text": [
      "[mbo] 67: learning_rate=0.0217; num_leaves=301; feature_fraction=0.661; min_data_in_leaf=1504; envios=13776; bagging_fraction=0.405; lambda_l1=1.77 : y = 5.94e+07 : 57.5 secs : infill_ei\n",
      "\n"
     ]
    },
    {
     "name": "stdout",
     "output_type": "stream",
     "text": [
      "20250606 004330\tbinary\tcustom\tTRUE\tTRUE\tFALSE\t-100\t31\t456\tTRUE\t531673\t0.0187021028385167\t536\t0.997566532661083\t358\t14447\t0.286259488365622\t1.99660904817696\t59865000\t96\n"
     ]
    },
    {
     "name": "stderr",
     "output_type": "stream",
     "text": [
      "[mbo] 68: learning_rate=0.0187; num_leaves=536; feature_fraction=0.998; min_data_in_leaf=358; envios=14447; bagging_fraction=0.286; lambda_l1=2 : y = 5.99e+07 : 118.1 secs : infill_ei\n",
      "\n"
     ]
    },
    {
     "name": "stdout",
     "output_type": "stream",
     "text": [
      "20250606 004658\tbinary\tcustom\tTRUE\tTRUE\tFALSE\t-100\t31\t922\tTRUE\t531673\t0.0100359792077495\t245\t0.752026896418764\t634\t9971\t0.50576631546731\t0.613499062634666\t61410000\t97\n"
     ]
    },
    {
     "name": "stderr",
     "output_type": "stream",
     "text": [
      "[mbo] 69: learning_rate=0.01; num_leaves=245; feature_fraction=0.752; min_data_in_leaf=634; envios=9971; bagging_fraction=0.506; lambda_l1=0.613 : y = 6.14e+07 : 206.6 secs : infill_ei\n",
      "\n",
      "Saved the current state after iteration 70 in the file 5431.RDATA.\n",
      "\n"
     ]
    },
    {
     "name": "stdout",
     "output_type": "stream",
     "text": [
      "20250606 005123\tbinary\tcustom\tTRUE\tTRUE\tFALSE\t-100\t31\t1425\tTRUE\t531673\t0.0100391485408174\t344\t0.617880477639646\t1211\t9646\t0.100193782477654\t0.878969934105752\t62025000\t98\n"
     ]
    },
    {
     "name": "stderr",
     "output_type": "stream",
     "text": [
      "[mbo] 70: learning_rate=0.01; num_leaves=344; feature_fraction=0.618; min_data_in_leaf=1211; envios=9646; bagging_fraction=0.1; lambda_l1=0.879 : y = 6.2e+07 : 257.0 secs : infill_ei\n",
      "\n"
     ]
    },
    {
     "name": "stdout",
     "output_type": "stream",
     "text": [
      "20250606 005317\tbinary\tcustom\tTRUE\tTRUE\tFALSE\t-100\t31\t220\tTRUE\t531673\t0.0135829488154821\t192\t0.669448164246155\t255\t9015\t0.110976065008257\t0.549223315221958\t61035000\t99\n"
     ]
    },
    {
     "name": "stderr",
     "output_type": "stream",
     "text": [
      "[mbo] 71: learning_rate=0.0136; num_leaves=192; feature_fraction=0.669; min_data_in_leaf=255; envios=9015; bagging_fraction=0.111; lambda_l1=0.549 : y = 6.1e+07 : 113.5 secs : infill_ei\n",
      "\n"
     ]
    },
    {
     "name": "stdout",
     "output_type": "stream",
     "text": [
      "20250606 005429\tbinary\tcustom\tTRUE\tTRUE\tFALSE\t-100\t31\t189\tTRUE\t531673\t0.0305566008075274\t609\t0.510475556331269\t656\t14105\t0.461264416148898\t0.0659283914359949\t60045000\t100\n"
     ]
    },
    {
     "name": "stderr",
     "output_type": "stream",
     "text": [
      "[mbo] 72: learning_rate=0.0306; num_leaves=609; feature_fraction=0.51; min_data_in_leaf=656; envios=14105; bagging_fraction=0.461; lambda_l1=0.0659 : y = 6e+07 : 70.8 secs : infill_ei\n",
      "\n"
     ]
    },
    {
     "name": "stdout",
     "output_type": "stream",
     "text": [
      "20250606 010002\tbinary\tcustom\tTRUE\tTRUE\tFALSE\t-100\t31\t1707\tTRUE\t531673\t0.0100096691174583\t630\t0.533996366818229\t1464\t10053\t0.154967081002818\t1.50962524326178\t61050000\t101\n"
     ]
    },
    {
     "name": "stderr",
     "output_type": "stream",
     "text": [
      "[mbo] 73: learning_rate=0.01; num_leaves=630; feature_fraction=0.534; min_data_in_leaf=1464; envios=10053; bagging_fraction=0.155; lambda_l1=1.51 : y = 6.1e+07 : 331.9 secs : infill_ei\n",
      "\n",
      "Saved the current state after iteration 74 in the file 5431.RDATA.\n",
      "\n"
     ]
    },
    {
     "name": "stdout",
     "output_type": "stream",
     "text": [
      "20250606 010100\tbinary\tcustom\tTRUE\tTRUE\tFALSE\t-100\t31\t247\tTRUE\t531673\t0.0461432749952202\t771\t0.417941282762758\t3541\t11104\t0.997764266821875\t0.327819259203898\t58860000\t102\n"
     ]
    },
    {
     "name": "stderr",
     "output_type": "stream",
     "text": [
      "[mbo] 74: learning_rate=0.0461; num_leaves=771; feature_fraction=0.418; min_data_in_leaf=3541; envios=11104; bagging_fraction=0.998; lambda_l1=0.328 : y = 5.89e+07 : 53.1 secs : infill_ei\n",
      "\n"
     ]
    },
    {
     "name": "stdout",
     "output_type": "stream",
     "text": [
      "20250606 010149\tbinary\tcustom\tTRUE\tTRUE\tFALSE\t-100\t31\t247\tTRUE\t531673\t0.0463034528411058\t753\t0.998649699956758\t1384\t14138\t0.466629172525605\t0.515981785460447\t60435000\t103\n"
     ]
    },
    {
     "name": "stderr",
     "output_type": "stream",
     "text": [
      "[mbo] 75: learning_rate=0.0463; num_leaves=753; feature_fraction=0.999; min_data_in_leaf=1384; envios=14138; bagging_fraction=0.467; lambda_l1=0.516 : y = 6.04e+07 : 48.8 secs : infill_ei\n",
      "\n"
     ]
    },
    {
     "name": "stdout",
     "output_type": "stream",
     "text": [
      "20250606 010226\tbinary\tcustom\tTRUE\tTRUE\tFALSE\t-100\t31\t180\tTRUE\t531673\t0.0927212333808146\t612\t0.644133062170014\t1210\t14187\t0.299972215293768\t1.74664720002683\t59565000\t104\n"
     ]
    },
    {
     "name": "stderr",
     "output_type": "stream",
     "text": [
      "[mbo] 76: learning_rate=0.0927; num_leaves=612; feature_fraction=0.644; min_data_in_leaf=1210; envios=14187; bagging_fraction=0.3; lambda_l1=1.75 : y = 5.96e+07 : 36.3 secs : infill_ei\n",
      "\n"
     ]
    },
    {
     "name": "stdout",
     "output_type": "stream",
     "text": [
      "20250606 010307\tbinary\tcustom\tTRUE\tTRUE\tFALSE\t-100\t31\t205\tTRUE\t531673\t0.0798718667567083\t403\t0.723553736993748\t1191\t12368\t0.197279950049119\t0.418544678488094\t60705000\t105\n"
     ]
    },
    {
     "name": "stderr",
     "output_type": "stream",
     "text": [
      "[mbo] 77: learning_rate=0.0799; num_leaves=403; feature_fraction=0.724; min_data_in_leaf=1191; envios=12368; bagging_fraction=0.197; lambda_l1=0.419 : y = 6.07e+07 : 39.8 secs : infill_ei\n",
      "\n"
     ]
    },
    {
     "name": "stdout",
     "output_type": "stream",
     "text": [
      "20250606 010331\tbinary\tcustom\tTRUE\tTRUE\tFALSE\t-100\t31\t82\tTRUE\t531673\t0.12469463712382\t598\t0.648305745139577\t1185\t14125\t0.803260014161454\t0.563390100316947\t57945000\t106\n"
     ]
    },
    {
     "name": "stderr",
     "output_type": "stream",
     "text": [
      "[mbo] 78: learning_rate=0.125; num_leaves=598; feature_fraction=0.648; min_data_in_leaf=1185; envios=14125; bagging_fraction=0.803; lambda_l1=0.563 : y = 5.79e+07 : 23.1 secs : infill_ei\n",
      "\n"
     ]
    },
    {
     "name": "stdout",
     "output_type": "stream",
     "text": [
      "20250606 010407\tbinary\tcustom\tTRUE\tTRUE\tFALSE\t-100\t31\t132\tTRUE\t531673\t0.0682274730960123\t268\t0.303640166240106\t1454\t10025\t0.164302292007305\t0.631463311232917\t61125000\t107\n"
     ]
    },
    {
     "name": "stderr",
     "output_type": "stream",
     "text": [
      "[mbo] 79: learning_rate=0.0682; num_leaves=268; feature_fraction=0.304; min_data_in_leaf=1454; envios=10025; bagging_fraction=0.164; lambda_l1=0.631 : y = 6.11e+07 : 34.9 secs : infill_ei\n",
      "\n"
     ]
    },
    {
     "name": "stdout",
     "output_type": "stream",
     "text": [
      "20250606 010524\tbinary\tcustom\tTRUE\tTRUE\tFALSE\t-100\t31\t389\tTRUE\t531673\t0.0271400415413158\t376\t0.64409400253442\t1257\t9972\t0.497364434334102\t0.4787294393704\t59970000\t108\n"
     ]
    },
    {
     "name": "stderr",
     "output_type": "stream",
     "text": [
      "[mbo] 80: learning_rate=0.0271; num_leaves=376; feature_fraction=0.644; min_data_in_leaf=1257; envios=9972; bagging_fraction=0.497; lambda_l1=0.479 : y = 6e+07 : 77.0 secs : infill_ei\n",
      "\n"
     ]
    },
    {
     "name": "stdout",
     "output_type": "stream",
     "text": [
      "20250606 010606\tbinary\tcustom\tTRUE\tTRUE\tFALSE\t-100\t31\t286\tTRUE\t531673\t0.0667950529671385\t679\t0.651941054895011\t3814\t9801\t0.999274807129462\t1.87077436206264\t59640000\t109\n"
     ]
    },
    {
     "name": "stderr",
     "output_type": "stream",
     "text": [
      "[mbo] 81: learning_rate=0.0668; num_leaves=679; feature_fraction=0.652; min_data_in_leaf=3814; envios=9801; bagging_fraction=0.999; lambda_l1=1.87 : y = 5.96e+07 : 40.5 secs : infill_ei\n",
      "\n"
     ]
    },
    {
     "name": "stdout",
     "output_type": "stream",
     "text": [
      "20250606 010640\tbinary\tcustom\tTRUE\tTRUE\tFALSE\t-100\t31\t161\tTRUE\t531673\t0.0691670660255586\t51\t0.64988252192409\t1401\t9247\t0.289965418885332\t0.693729651316295\t60945000\t110\n"
     ]
    },
    {
     "name": "stderr",
     "output_type": "stream",
     "text": [
      "[mbo] 82: learning_rate=0.0692; num_leaves=51; feature_fraction=0.65; min_data_in_leaf=1401; envios=9247; bagging_fraction=0.29; lambda_l1=0.694 : y = 6.09e+07 : 32.9 secs : infill_ei\n",
      "\n"
     ]
    },
    {
     "name": "stdout",
     "output_type": "stream",
     "text": [
      "20250606 010728\tbinary\tcustom\tTRUE\tTRUE\tFALSE\t-100\t31\t301\tTRUE\t531673\t0.07251442915335\t558\t0.941926337050726\t1774\t13362\t0.295924454188518\t0.353949850382891\t61200000\t111\n"
     ]
    },
    {
     "name": "stderr",
     "output_type": "stream",
     "text": [
      "[mbo] 83: learning_rate=0.0725; num_leaves=558; feature_fraction=0.942; min_data_in_leaf=1774; envios=13362; bagging_fraction=0.296; lambda_l1=0.354 : y = 6.12e+07 : 47.2 secs : infill_ei\n",
      "\n"
     ]
    },
    {
     "name": "stdout",
     "output_type": "stream",
     "text": [
      "20250606 010831\tbinary\tcustom\tTRUE\tTRUE\tFALSE\t-100\t31\t353\tTRUE\t531673\t0.0414475080267011\t866\t0.663565980900974\t1230\t10133\t0.987408537773268\t1.99591404107418\t61530000\t112\n"
     ]
    },
    {
     "name": "stderr",
     "output_type": "stream",
     "text": [
      "[mbo] 84: learning_rate=0.0414; num_leaves=866; feature_fraction=0.664; min_data_in_leaf=1230; envios=10133; bagging_fraction=0.987; lambda_l1=2 : y = 6.15e+07 : 63.7 secs : infill_ei\n",
      "\n"
     ]
    },
    {
     "name": "stdout",
     "output_type": "stream",
     "text": [
      "20250606 010914\tbinary\tcustom\tTRUE\tTRUE\tFALSE\t-100\t31\t207\tTRUE\t531673\t0.0687789234054167\t334\t0.82712444248895\t1339\t10946\t0.275814980409414\t0.693192110871191\t60885000\t113\n"
     ]
    },
    {
     "name": "stderr",
     "output_type": "stream",
     "text": [
      "[mbo] 85: learning_rate=0.0688; num_leaves=334; feature_fraction=0.827; min_data_in_leaf=1339; envios=10946; bagging_fraction=0.276; lambda_l1=0.693 : y = 6.09e+07 : 41.3 secs : infill_ei\n",
      "\n"
     ]
    },
    {
     "name": "stdout",
     "output_type": "stream",
     "text": [
      "20250606 011024\tbinary\tcustom\tTRUE\tTRUE\tFALSE\t-100\t31\t582\tTRUE\t531673\t0.0672714965970404\t717\t0.911668958993638\t4977\t10863\t0.126309022070424\t0.888078264898632\t61260000\t114\n"
     ]
    },
    {
     "name": "stderr",
     "output_type": "stream",
     "text": [
      "[mbo] 86: learning_rate=0.0673; num_leaves=717; feature_fraction=0.912; min_data_in_leaf=4977; envios=10863; bagging_fraction=0.126; lambda_l1=0.888 : y = 6.13e+07 : 67.8 secs : infill_ei\n",
      "\n",
      "Saved the current state after iteration 87 in the file 5431.RDATA.\n",
      "\n"
     ]
    },
    {
     "name": "stdout",
     "output_type": "stream",
     "text": [
      "20250606 011123\tbinary\tcustom\tTRUE\tTRUE\tFALSE\t-100\t31\t300\tTRUE\t531673\t0.0606737870261617\t875\t0.672899666656056\t1463\t9140\t0.972325632254502\t1.25367610680511\t60420000\t115\n"
     ]
    },
    {
     "name": "stderr",
     "output_type": "stream",
     "text": [
      "[mbo] 87: learning_rate=0.0607; num_leaves=875; feature_fraction=0.673; min_data_in_leaf=1463; envios=9140; bagging_fraction=0.972; lambda_l1=1.25 : y = 6.04e+07 : 52.1 secs : infill_ei\n",
      "\n"
     ]
    },
    {
     "name": "stdout",
     "output_type": "stream",
     "text": [
      "20250606 011511\tbinary\tcustom\tTRUE\tTRUE\tFALSE\t-100\t31\t1174\tTRUE\t531673\t0.0101267095179753\t729\t0.878583734947933\t958\t11848\t0.362667981112471\t0.466157636350846\t61305000\t116\n"
     ]
    },
    {
     "name": "stderr",
     "output_type": "stream",
     "text": [
      "[mbo] 88: learning_rate=0.0101; num_leaves=729; feature_fraction=0.879; min_data_in_leaf=958; envios=11848; bagging_fraction=0.363; lambda_l1=0.466 : y = 6.13e+07 : 226.5 secs : infill_ei\n",
      "\n"
     ]
    },
    {
     "name": "stdout",
     "output_type": "stream",
     "text": [
      "20250606 011553\tbinary\tcustom\tTRUE\tTRUE\tFALSE\t-100\t31\t223\tTRUE\t531673\t0.0717073087233679\t808\t0.794478256678646\t1574\t11827\t0.245116442003571\t0.725250489800936\t60645000\t117\n"
     ]
    },
    {
     "name": "stderr",
     "output_type": "stream",
     "text": [
      "[mbo] 89: learning_rate=0.0717; num_leaves=808; feature_fraction=0.794; min_data_in_leaf=1574; envios=11827; bagging_fraction=0.245; lambda_l1=0.725 : y = 6.06e+07 : 41.3 secs : infill_ei\n",
      "\n"
     ]
    },
    {
     "name": "stdout",
     "output_type": "stream",
     "text": [
      "20250606 011632\tbinary\tcustom\tTRUE\tTRUE\tFALSE\t-100\t31\t300\tTRUE\t531673\t0.111490819599746\t638\t0.871679944607795\t5132\t10740\t0.276801621504472\t0.756106621485338\t60540000\t118\n"
     ]
    },
    {
     "name": "stderr",
     "output_type": "stream",
     "text": [
      "[mbo] 90: learning_rate=0.111; num_leaves=638; feature_fraction=0.872; min_data_in_leaf=5132; envios=10740; bagging_fraction=0.277; lambda_l1=0.756 : y = 6.05e+07 : 38.9 secs : infill_ei\n",
      "\n"
     ]
    },
    {
     "name": "stdout",
     "output_type": "stream",
     "text": [
      "20250606 011719\tbinary\tcustom\tTRUE\tTRUE\tFALSE\t-100\t31\t230\tTRUE\t531673\t0.0741068217665809\t636\t0.769859286942536\t1199\t13759\t0.144543117912368\t0.000830569754304814\t59535000\t119\n"
     ]
    },
    {
     "name": "stderr",
     "output_type": "stream",
     "text": [
      "[mbo] 91: learning_rate=0.0741; num_leaves=636; feature_fraction=0.77; min_data_in_leaf=1199; envios=13759; bagging_fraction=0.145; lambda_l1=0.000831 : y = 5.95e+07 : 45.7 secs : infill_ei\n",
      "\n"
     ]
    },
    {
     "name": "stdout",
     "output_type": "stream",
     "text": [
      "20250606 011802\tbinary\tcustom\tTRUE\tTRUE\tFALSE\t-100\t31\t235\tTRUE\t531673\t0.077706734379158\t626\t0.583352749448391\t5557\t10236\t0.40956448112003\t0.8953751475139\t58935000\t120\n"
     ]
    },
    {
     "name": "stderr",
     "output_type": "stream",
     "text": [
      "[mbo] 92: learning_rate=0.0777; num_leaves=626; feature_fraction=0.583; min_data_in_leaf=5557; envios=10236; bagging_fraction=0.41; lambda_l1=0.895 : y = 5.89e+07 : 40.4 secs : infill_ei\n",
      "\n"
     ]
    },
    {
     "name": "stdout",
     "output_type": "stream",
     "text": [
      "20250606 011837\tbinary\tcustom\tTRUE\tTRUE\tFALSE\t-100\t31\t178\tTRUE\t531673\t0.0769241403784285\t662\t0.879359273937206\t1676\t12759\t0.707754725245064\t0.68792661546823\t60735000\t121\n"
     ]
    },
    {
     "name": "stderr",
     "output_type": "stream",
     "text": [
      "[mbo] 93: learning_rate=0.0769; num_leaves=662; feature_fraction=0.879; min_data_in_leaf=1676; envios=12759; bagging_fraction=0.708; lambda_l1=0.688 : y = 6.07e+07 : 33.9 secs : infill_ei\n",
      "\n"
     ]
    },
    {
     "name": "stdout",
     "output_type": "stream",
     "text": [
      "20250606 011855\tbinary\tcustom\tTRUE\tTRUE\tFALSE\t-100\t31\t124\tTRUE\t531673\t0.230737924948735\t436\t0.751747148976251\t6967\t11558\t0.998167884308671\t1.00137014540346\t59175000\t122\n"
     ]
    },
    {
     "name": "stderr",
     "output_type": "stream",
     "text": [
      "[mbo] 94: learning_rate=0.231; num_leaves=436; feature_fraction=0.752; min_data_in_leaf=6967; envios=11558; bagging_fraction=0.998; lambda_l1=1 : y = 5.92e+07 : 17.9 secs : infill_ei\n",
      "\n"
     ]
    },
    {
     "name": "stdout",
     "output_type": "stream",
     "text": [
      "20250606 012342\tbinary\tcustom\tTRUE\tTRUE\tFALSE\t-100\t31\t1346\tTRUE\t531673\t0.0101501020006946\t421\t0.543373901460363\t1206\t7782\t0.18078276577243\t0.87382137846254\t60180000\t123\n"
     ]
    },
    {
     "name": "stderr",
     "output_type": "stream",
     "text": [
      "[mbo] 95: learning_rate=0.0102; num_leaves=421; feature_fraction=0.543; min_data_in_leaf=1206; envios=7782; bagging_fraction=0.181; lambda_l1=0.874 : y = 6.02e+07 : 284.7 secs : infill_ei\n",
      "\n",
      "Saved the current state after iteration 96 in the file 5431.RDATA.\n",
      "\n"
     ]
    },
    {
     "name": "stdout",
     "output_type": "stream",
     "text": [
      "20250606 012724\tbinary\tcustom\tTRUE\tTRUE\tFALSE\t-100\t31\t1102\tTRUE\t531673\t0.0100089933236362\t810\t0.878707100481679\t1093\t9632\t0.549800257483825\t0.0216390303263791\t60870000\t124\n"
     ]
    },
    {
     "name": "stderr",
     "output_type": "stream",
     "text": [
      "[mbo] 96: learning_rate=0.01; num_leaves=810; feature_fraction=0.879; min_data_in_leaf=1093; envios=9632; bagging_fraction=0.55; lambda_l1=0.0216 : y = 6.09e+07 : 215.2 secs : infill_ei\n",
      "\n"
     ]
    },
    {
     "name": "stdout",
     "output_type": "stream",
     "text": [
      "20250606 012801\tbinary\tcustom\tTRUE\tTRUE\tFALSE\t-100\t31\t193\tTRUE\t531673\t0.0474025869131875\t677\t0.807744313171626\t2779\t13120\t0.101487113950121\t1.56158389581424\t58800000\t125\n"
     ]
    },
    {
     "name": "stderr",
     "output_type": "stream",
     "text": [
      "[mbo] 97: learning_rate=0.0474; num_leaves=677; feature_fraction=0.808; min_data_in_leaf=2779; envios=13120; bagging_fraction=0.101; lambda_l1=1.56 : y = 5.88e+07 : 35.9 secs : infill_ei\n",
      "\n"
     ]
    },
    {
     "name": "stdout",
     "output_type": "stream",
     "text": [
      "20250606 012825\tbinary\tcustom\tTRUE\tTRUE\tFALSE\t-100\t31\t76\tTRUE\t531673\t0.0727217994680858\t528\t0.869294270421835\t2085\t14186\t0.49858580311636\t0.688921773657227\t58965000\t126\n"
     ]
    },
    {
     "name": "stderr",
     "output_type": "stream",
     "text": [
      "[mbo] 98: learning_rate=0.0727; num_leaves=528; feature_fraction=0.869; min_data_in_leaf=2085; envios=14186; bagging_fraction=0.499; lambda_l1=0.689 : y = 5.9e+07 : 23.0 secs : infill_ei\n",
      "\n"
     ]
    },
    {
     "name": "stdout",
     "output_type": "stream",
     "text": [
      "20250606 013230\tbinary\tcustom\tTRUE\tTRUE\tFALSE\t-100\t31\t750\tTRUE\t531673\t0.0101924790651119\t829\t0.562914794188541\t220\t9610\t0.999640654456006\t1.63655072029238\t60930000\t127\n"
     ]
    },
    {
     "name": "stderr",
     "output_type": "stream",
     "text": [
      "[mbo] 99: learning_rate=0.0102; num_leaves=829; feature_fraction=0.563; min_data_in_leaf=220; envios=9610; bagging_fraction=1; lambda_l1=1.64 : y = 6.09e+07 : 243.9 secs : infill_ei\n",
      "\n"
     ]
    },
    {
     "name": "stdout",
     "output_type": "stream",
     "text": [
      "20250606 013645\tbinary\tcustom\tTRUE\tTRUE\tFALSE\t-100\t31\t1485\tTRUE\t531673\t0.0102927461344801\t704\t0.726883137368996\t893\t9324\t0.580944857958429\t1.95465916811633\t60720000\t128\n"
     ]
    },
    {
     "name": "stderr",
     "output_type": "stream",
     "text": [
      "[mbo] 100: learning_rate=0.0103; num_leaves=704; feature_fraction=0.727; min_data_in_leaf=893; envios=9324; bagging_fraction=0.581; lambda_l1=1.95 : y = 6.07e+07 : 253.9 secs : infill_ei\n",
      "\n",
      "Saved the current state after iteration 101 in the file 5431.RDATA.\n",
      "\n"
     ]
    },
    {
     "name": "stdout",
     "output_type": "stream",
     "text": [
      "20250606 014031\tbinary\tcustom\tTRUE\tTRUE\tFALSE\t-100\t31\t827\tTRUE\t531673\t0.0105837571564836\t644\t0.67357565615522\t495\t12344\t0.722481878170204\t0.141040464206833\t60780000\t129\n"
     ]
    },
    {
     "name": "stderr",
     "output_type": "stream",
     "text": [
      "[mbo] 101: learning_rate=0.0106; num_leaves=644; feature_fraction=0.674; min_data_in_leaf=495; envios=12344; bagging_fraction=0.722; lambda_l1=0.141 : y = 6.08e+07 : 218.5 secs : infill_ei\n",
      "\n"
     ]
    },
    {
     "name": "stdout",
     "output_type": "stream",
     "text": [
      "20250606 014349\tbinary\tcustom\tTRUE\tTRUE\tFALSE\t-100\t31\t922\tTRUE\t531673\t0.0105421671400231\t253\t0.723106907173579\t811\t10026\t0.219963439495542\t0.372712073431342\t60645000\t130\n"
     ]
    },
    {
     "name": "stderr",
     "output_type": "stream",
     "text": [
      "[mbo] 102: learning_rate=0.0105; num_leaves=253; feature_fraction=0.723; min_data_in_leaf=811; envios=10026; bagging_fraction=0.22; lambda_l1=0.373 : y = 6.06e+07 : 195.8 secs : infill_ei\n",
      "\n"
     ]
    },
    {
     "name": "stdout",
     "output_type": "stream",
     "text": [
      "20250606 014451\tbinary\tcustom\tTRUE\tTRUE\tFALSE\t-100\t31\t328\tTRUE\t531673\t0.0745676741038743\t814\t0.287292361897753\t1360\t13304\t0.323024278749778\t0.589353552225392\t61140000\t131\n"
     ]
    },
    {
     "name": "stderr",
     "output_type": "stream",
     "text": [
      "[mbo] 103: learning_rate=0.0746; num_leaves=814; feature_fraction=0.287; min_data_in_leaf=1360; envios=13304; bagging_fraction=0.323; lambda_l1=0.589 : y = 6.11e+07 : 61.2 secs : infill_ei\n",
      "\n"
     ]
    },
    {
     "name": "stdout",
     "output_type": "stream",
     "text": [
      "20250606 014535\tbinary\tcustom\tTRUE\tTRUE\tFALSE\t-100\t31\t296\tTRUE\t531673\t0.0327854744402512\t857\t0.870213065389707\t6204\t11401\t0.280713546521825\t0.869878029994288\t58320000\t132\n"
     ]
    },
    {
     "name": "stderr",
     "output_type": "stream",
     "text": [
      "[mbo] 104: learning_rate=0.0328; num_leaves=857; feature_fraction=0.87; min_data_in_leaf=6204; envios=11401; bagging_fraction=0.281; lambda_l1=0.87 : y = 5.83e+07 : 43.1 secs : infill_ei\n",
      "\n"
     ]
    },
    {
     "name": "stdout",
     "output_type": "stream",
     "text": [
      "20250606 014615\tbinary\tcustom\tTRUE\tTRUE\tFALSE\t-100\t31\t281\tTRUE\t531673\t0.0637992621778495\t524\t0.977383410898644\t4797\t10843\t0.79704033046558\t0.551252722728651\t58920000\t133\n"
     ]
    },
    {
     "name": "stderr",
     "output_type": "stream",
     "text": [
      "[mbo] 105: learning_rate=0.0638; num_leaves=524; feature_fraction=0.977; min_data_in_leaf=4797; envios=10843; bagging_fraction=0.797; lambda_l1=0.551 : y = 5.89e+07 : 38.4 secs : infill_ei\n",
      "\n"
     ]
    },
    {
     "name": "stdout",
     "output_type": "stream",
     "text": [
      "20250606 014918\tbinary\tcustom\tTRUE\tTRUE\tFALSE\t-100\t31\t772\tTRUE\t531673\t0.0101167588630333\t847\t0.849357021732215\t744\t10059\t0.991653745634393\t0.506302320867087\t60675000\t134\n"
     ]
    },
    {
     "name": "stderr",
     "output_type": "stream",
     "text": [
      "[mbo] 106: learning_rate=0.0101; num_leaves=847; feature_fraction=0.849; min_data_in_leaf=744; envios=10059; bagging_fraction=0.992; lambda_l1=0.506 : y = 6.07e+07 : 181.5 secs : infill_ei\n",
      "\n",
      "Saved the current state after iteration 107 in the file 5431.RDATA.\n",
      "\n"
     ]
    },
    {
     "name": "stdout",
     "output_type": "stream",
     "text": [
      "20250606 015028\tbinary\tcustom\tTRUE\tTRUE\tFALSE\t-100\t31\t274\tTRUE\t531673\t0.055693200495435\t275\t0.434061667314054\t1189\t9327\t0.100816814626945\t0.851133593115461\t60705000\t135\n"
     ]
    },
    {
     "name": "stderr",
     "output_type": "stream",
     "text": [
      "[mbo] 107: learning_rate=0.0557; num_leaves=275; feature_fraction=0.434; min_data_in_leaf=1189; envios=9327; bagging_fraction=0.101; lambda_l1=0.851 : y = 6.07e+07 : 63.1 secs : infill_ei\n",
      "\n"
     ]
    },
    {
     "name": "stdout",
     "output_type": "stream",
     "text": [
      "20250606 015454\tbinary\tcustom\tTRUE\tTRUE\tFALSE\t-100\t31\t791\tTRUE\t531673\t0.0101570959034545\t275\t0.898058443948016\t251\t9024\t0.655817017235949\t0.219041725412068\t60780000\t136\n"
     ]
    },
    {
     "name": "stderr",
     "output_type": "stream",
     "text": [
      "[mbo] 108: learning_rate=0.0102; num_leaves=275; feature_fraction=0.898; min_data_in_leaf=251; envios=9024; bagging_fraction=0.656; lambda_l1=0.219 : y = 6.08e+07 : 264.2 secs : infill_ei\n",
      "\n"
     ]
    },
    {
     "name": "stdout",
     "output_type": "stream",
     "text": [
      "20250606 015647\tbinary\tcustom\tTRUE\tTRUE\tFALSE\t-100\t31\t540\tTRUE\t531673\t0.014047453237122\t776\t0.847684915869083\t1389\t12890\t0.344232330687753\t0.404884190390508\t60690000\t137\n"
     ]
    },
    {
     "name": "stderr",
     "output_type": "stream",
     "text": [
      "[mbo] 109: learning_rate=0.014; num_leaves=776; feature_fraction=0.848; min_data_in_leaf=1389; envios=12890; bagging_fraction=0.344; lambda_l1=0.405 : y = 6.07e+07 : 112.2 secs : infill_ei\n",
      "\n"
     ]
    },
    {
     "name": "stdout",
     "output_type": "stream",
     "text": [
      "20250606 015712\tbinary\tcustom\tTRUE\tTRUE\tFALSE\t-100\t31\t144\tTRUE\t531673\t0.110411653460752\t807\t0.901619469043724\t4452\t10751\t0.100564955889099\t0.276666719590539\t59310000\t138\n"
     ]
    },
    {
     "name": "stderr",
     "output_type": "stream",
     "text": [
      "[mbo] 110: learning_rate=0.11; num_leaves=807; feature_fraction=0.902; min_data_in_leaf=4452; envios=10751; bagging_fraction=0.101; lambda_l1=0.277 : y = 5.93e+07 : 24.6 secs : infill_ei\n",
      "\n"
     ]
    },
    {
     "name": "stdout",
     "output_type": "stream",
     "text": [
      "20250606 015753\tbinary\tcustom\tTRUE\tTRUE\tFALSE\t-100\t31\t302\tTRUE\t531673\t0.0953996695491616\t790\t0.790028442544296\t4355\t11059\t0.292581382687049\t1.2252966289396\t59955000\t139\n"
     ]
    },
    {
     "name": "stderr",
     "output_type": "stream",
     "text": [
      "[mbo] 111: learning_rate=0.0954; num_leaves=790; feature_fraction=0.79; min_data_in_leaf=4355; envios=11059; bagging_fraction=0.293; lambda_l1=1.23 : y = 6e+07 : 38.8 secs : infill_ei\n",
      "\n"
     ]
    },
    {
     "name": "stdout",
     "output_type": "stream",
     "text": [
      "20250606 015845\tbinary\tcustom\tTRUE\tTRUE\tFALSE\t-100\t31\t286\tTRUE\t531673\t0.0601148032607306\t680\t0.949752568388961\t1328\t10914\t0.278567007794672\t1.07600358727244\t60990000\t140\n"
     ]
    },
    {
     "name": "stderr",
     "output_type": "stream",
     "text": [
      "[mbo] 112: learning_rate=0.0601; num_leaves=680; feature_fraction=0.95; min_data_in_leaf=1328; envios=10914; bagging_fraction=0.279; lambda_l1=1.08 : y = 6.1e+07 : 50.0 secs : infill_ei\n",
      "\n"
     ]
    },
    {
     "name": "stdout",
     "output_type": "stream",
     "text": [
      "20250606 020206\tbinary\tcustom\tTRUE\tTRUE\tFALSE\t-100\t31\t927\tTRUE\t531673\t0.0100098664778176\t683\t0.963244329116868\t796\t11116\t0.665041244560976\t0.613991526800323\t60735000\t141\n"
     ]
    },
    {
     "name": "stderr",
     "output_type": "stream",
     "text": [
      "[mbo] 113: learning_rate=0.01; num_leaves=683; feature_fraction=0.963; min_data_in_leaf=796; envios=11116; bagging_fraction=0.665; lambda_l1=0.614 : y = 6.07e+07 : 199.5 secs : infill_ei\n",
      "\n",
      "Saved the current state after iteration 114 in the file 5431.RDATA.\n",
      "\n"
     ]
    },
    {
     "name": "stdout",
     "output_type": "stream",
     "text": [
      "20250606 020247\tbinary\tcustom\tTRUE\tTRUE\tFALSE\t-100\t31\t172\tTRUE\t531673\t0.096641915088084\t694\t0.767499058877629\t1404\t10837\t0.999911184015759\t1.42836175794648\t60015000\t142\n"
     ]
    },
    {
     "name": "stderr",
     "output_type": "stream",
     "text": [
      "[mbo] 114: learning_rate=0.0966; num_leaves=694; feature_fraction=0.767; min_data_in_leaf=1404; envios=10837; bagging_fraction=1; lambda_l1=1.43 : y = 6e+07 : 34.0 secs : infill_ei\n",
      "\n"
     ]
    },
    {
     "name": "stdout",
     "output_type": "stream",
     "text": [
      "20250606 020412\tbinary\tcustom\tTRUE\tTRUE\tFALSE\t-100\t31\t303\tTRUE\t531673\t0.0231049223896106\t537\t0.248250041472855\t532\t11097\t0.30850131501285\t1.3305476102618\t60435000\t143\n"
     ]
    },
    {
     "name": "stderr",
     "output_type": "stream",
     "text": [
      "[mbo] 115: learning_rate=0.0231; num_leaves=537; feature_fraction=0.248; min_data_in_leaf=532; envios=11097; bagging_fraction=0.309; lambda_l1=1.33 : y = 6.04e+07 : 83.0 secs : infill_ei\n",
      "\n"
     ]
    },
    {
     "name": "stdout",
     "output_type": "stream",
     "text": [
      "20250606 020740\tbinary\tcustom\tTRUE\tTRUE\tFALSE\t-100\t31\t1175\tTRUE\t531673\t0.0102588981285429\t549\t0.991640514432351\t1205\t9716\t0.112706651824792\t0.91365713126329\t62055000\t144\n"
     ]
    },
    {
     "name": "stderr",
     "output_type": "stream",
     "text": [
      "[mbo] 116: learning_rate=0.0103; num_leaves=549; feature_fraction=0.992; min_data_in_leaf=1205; envios=9716; bagging_fraction=0.113; lambda_l1=0.914 : y = 6.21e+07 : 207.3 secs : infill_ei\n",
      "\n"
     ]
    },
    {
     "name": "stdout",
     "output_type": "stream",
     "text": [
      "20250606 021252\tbinary\tcustom\tTRUE\tTRUE\tFALSE\t-100\t31\t2128\tTRUE\t531673\t0.0103782775426967\t959\t0.898432948634833\t1507\t12446\t0.939060825557757\t0.396901197383448\t61065000\t145\n"
     ]
    },
    {
     "name": "stderr",
     "output_type": "stream",
     "text": [
      "[mbo] 117: learning_rate=0.0104; num_leaves=959; feature_fraction=0.898; min_data_in_leaf=1507; envios=12446; bagging_fraction=0.939; lambda_l1=0.397 : y = 6.11e+07 : 311.1 secs : infill_ei\n",
      "\n",
      "Saved the current state after iteration 118 in the file 5431.RDATA.\n",
      "\n"
     ]
    },
    {
     "name": "stdout",
     "output_type": "stream",
     "text": [
      "20250606 021601\tbinary\tcustom\tTRUE\tTRUE\tFALSE\t-100\t31\t927\tTRUE\t531673\t0.0102213938289026\t154\t0.728552970397503\t1086\t9331\t0.894883180110012\t0.811377152722212\t61050000\t146\n"
     ]
    },
    {
     "name": "stderr",
     "output_type": "stream",
     "text": [
      "[mbo] 118: learning_rate=0.0102; num_leaves=154; feature_fraction=0.729; min_data_in_leaf=1086; envios=9331; bagging_fraction=0.895; lambda_l1=0.811 : y = 6.1e+07 : 182.4 secs : infill_ei\n",
      "\n"
     ]
    },
    {
     "name": "stdout",
     "output_type": "stream",
     "text": [
      "20250606 021636\tbinary\tcustom\tTRUE\tTRUE\tFALSE\t-100\t31\t143\tTRUE\t531673\t0.0766997287903272\t709\t0.837120601936561\t1110\t11936\t0.346183281912205\t0.415238932779756\t60315000\t147\n"
     ]
    },
    {
     "name": "stderr",
     "output_type": "stream",
     "text": [
      "[mbo] 119: learning_rate=0.0767; num_leaves=709; feature_fraction=0.837; min_data_in_leaf=1110; envios=11936; bagging_fraction=0.346; lambda_l1=0.415 : y = 6.03e+07 : 34.6 secs : infill_ei\n",
      "\n"
     ]
    },
    {
     "name": "stdout",
     "output_type": "stream",
     "text": [
      "20250606 021744\tbinary\tcustom\tTRUE\tTRUE\tFALSE\t-100\t31\t263\tTRUE\t531673\t0.0518201750647592\t979\t0.453593895431624\t749\t13624\t0.684509634391704\t0.861755242996012\t60420000\t148\n"
     ]
    },
    {
     "name": "stderr",
     "output_type": "stream",
     "text": [
      "[mbo] 120: learning_rate=0.0518; num_leaves=979; feature_fraction=0.454; min_data_in_leaf=749; envios=13624; bagging_fraction=0.685; lambda_l1=0.862 : y = 6.04e+07 : 66.1 secs : infill_ei\n",
      "\n"
     ]
    },
    {
     "name": "stdout",
     "output_type": "stream",
     "text": [
      "20250606 021810\tbinary\tcustom\tTRUE\tTRUE\tFALSE\t-100\t31\t179\tTRUE\t531673\t0.131092503550936\t798\t0.834998498602118\t6013\t10962\t0.999699299562434\t1.24152224351506\t59040000\t149\n"
     ]
    },
    {
     "name": "stderr",
     "output_type": "stream",
     "text": [
      "[mbo] 121: learning_rate=0.131; num_leaves=798; feature_fraction=0.835; min_data_in_leaf=6013; envios=10962; bagging_fraction=1; lambda_l1=1.24 : y = 5.9e+07 : 23.8 secs : infill_ei\n",
      "\n"
     ]
    },
    {
     "name": "stdout",
     "output_type": "stream",
     "text": [
      "20250606 021851\tbinary\tcustom\tTRUE\tTRUE\tFALSE\t-100\t31\t181\tTRUE\t531673\t0.102518415851025\t100\t0.428724458517874\t2137\t10628\t0.110524147413329\t0.722768481512739\t59805000\t150\n"
     ]
    },
    {
     "name": "stderr",
     "output_type": "stream",
     "text": [
      "[mbo] 122: learning_rate=0.103; num_leaves=100; feature_fraction=0.429; min_data_in_leaf=2137; envios=10628; bagging_fraction=0.111; lambda_l1=0.723 : y = 5.98e+07 : 39.5 secs : infill_ei\n",
      "\n"
     ]
    },
    {
     "name": "stdout",
     "output_type": "stream",
     "text": [
      "20250606 021918\tbinary\tcustom\tTRUE\tTRUE\tFALSE\t-100\t31\t175\tTRUE\t531673\t0.10676054023405\t650\t0.816161413141637\t3853\t12466\t0.114223608233837\t0.57441233250266\t59925000\t151\n"
     ]
    },
    {
     "name": "stderr",
     "output_type": "stream",
     "text": [
      "[mbo] 123: learning_rate=0.107; num_leaves=650; feature_fraction=0.816; min_data_in_leaf=3853; envios=12466; bagging_fraction=0.114; lambda_l1=0.574 : y = 5.99e+07 : 26.1 secs : infill_ei\n",
      "\n"
     ]
    },
    {
     "name": "stdout",
     "output_type": "stream",
     "text": [
      "20250606 022400\tbinary\tcustom\tTRUE\tTRUE\tFALSE\t-100\t31\t1528\tTRUE\t531673\t0.0100852874156377\t570\t0.572774587253295\t1641\t8957\t0.67406964062261\t0.627417326505809\t61215000\t152\n"
     ]
    },
    {
     "name": "stderr",
     "output_type": "stream",
     "text": [
      "[mbo] 124: learning_rate=0.0101; num_leaves=570; feature_fraction=0.573; min_data_in_leaf=1641; envios=8957; bagging_fraction=0.674; lambda_l1=0.627 : y = 6.12e+07 : 280.8 secs : infill_ei\n",
      "\n",
      "Saved the current state after iteration 125 in the file 5431.RDATA.\n",
      "\n"
     ]
    },
    {
     "name": "stdout",
     "output_type": "stream",
     "text": [
      "20250606 022500\tbinary\tcustom\tTRUE\tTRUE\tFALSE\t-100\t31\t260\tTRUE\t531673\t0.0697088845900474\t630\t0.278814780031336\t1434\t10659\t0.798679684976285\t0.80372838565877\t61995000\t153\n"
     ]
    },
    {
     "name": "stderr",
     "output_type": "stream",
     "text": [
      "[mbo] 125: learning_rate=0.0697; num_leaves=630; feature_fraction=0.279; min_data_in_leaf=1434; envios=10659; bagging_fraction=0.799; lambda_l1=0.804 : y = 6.2e+07 : 51.6 secs : infill_ei\n",
      "\n"
     ]
    },
    {
     "name": "stdout",
     "output_type": "stream",
     "text": [
      "20250606 023005\tbinary\tcustom\tTRUE\tTRUE\tFALSE\t-100\t31\t1969\tTRUE\t531673\t0.0100049963357415\t835\t0.184669508360025\t1435\t10821\t0.928350852155049\t0.586577060224095\t61260000\t154\n"
     ]
    },
    {
     "name": "stderr",
     "output_type": "stream",
     "text": [
      "[mbo] 126: learning_rate=0.01; num_leaves=835; feature_fraction=0.185; min_data_in_leaf=1435; envios=10821; bagging_fraction=0.928; lambda_l1=0.587 : y = 6.13e+07 : 304.1 secs : infill_ei\n",
      "\n"
     ]
    },
    {
     "name": "stdout",
     "output_type": "stream",
     "text": [
      "20250606 023049\tbinary\tcustom\tTRUE\tTRUE\tFALSE\t-100\t31\t173\tTRUE\t531673\t0.0681323063717572\t310\t0.183100800745978\t540\t10674\t0.441113093433927\t0.657420799603794\t61230000\t155\n"
     ]
    },
    {
     "name": "stderr",
     "output_type": "stream",
     "text": [
      "[mbo] 127: learning_rate=0.0681; num_leaves=310; feature_fraction=0.183; min_data_in_leaf=540; envios=10674; bagging_fraction=0.441; lambda_l1=0.657 : y = 6.12e+07 : 42.2 secs : infill_ei\n",
      "\n"
     ]
    },
    {
     "name": "stdout",
     "output_type": "stream",
     "text": [
      "20250606 023129\tbinary\tcustom\tTRUE\tTRUE\tFALSE\t-100\t31\t134\tTRUE\t531673\t0.0620901287733508\t787\t0.411005294414638\t1549\t10710\t0.904401224367388\t0.820009091741054\t60870000\t156\n"
     ]
    },
    {
     "name": "stderr",
     "output_type": "stream",
     "text": [
      "[mbo] 128: learning_rate=0.0621; num_leaves=787; feature_fraction=0.411; min_data_in_leaf=1549; envios=10710; bagging_fraction=0.904; lambda_l1=0.82 : y = 6.09e+07 : 38.1 secs : infill_ei\n",
      "\n"
     ]
    },
    {
     "name": "stdout",
     "output_type": "stream",
     "text": [
      "20250606 023207\tbinary\tcustom\tTRUE\tTRUE\tFALSE\t-100\t31\t185\tTRUE\t531673\t0.0805261420939188\t529\t0.201393651076742\t1328\t10365\t0.935846774897954\t0.65717294604302\t61425000\t157\n"
     ]
    },
    {
     "name": "stderr",
     "output_type": "stream",
     "text": [
      "[mbo] 129: learning_rate=0.0805; num_leaves=529; feature_fraction=0.201; min_data_in_leaf=1328; envios=10365; bagging_fraction=0.936; lambda_l1=0.657 : y = 6.14e+07 : 37.9 secs : infill_ei\n",
      "\n"
     ]
    },
    {
     "name": "stdout",
     "output_type": "stream",
     "text": [
      "20250606 023242\tbinary\tcustom\tTRUE\tTRUE\tFALSE\t-100\t31\t132\tTRUE\t531673\t0.0736643973562869\t547\t0.22852756275167\t1439\t10733\t0.33449810024011\t0.911455496335403\t61170000\t158\n"
     ]
    },
    {
     "name": "stderr",
     "output_type": "stream",
     "text": [
      "[mbo] 130: learning_rate=0.0737; num_leaves=547; feature_fraction=0.229; min_data_in_leaf=1439; envios=10733; bagging_fraction=0.334; lambda_l1=0.911 : y = 6.12e+07 : 32.8 secs : infill_ei\n",
      "\n"
     ]
    },
    {
     "name": "stdout",
     "output_type": "stream",
     "text": [
      "20250606 023344\tbinary\tcustom\tTRUE\tTRUE\tFALSE\t-100\t31\t290\tTRUE\t531673\t0.0678769653902691\t566\t0.528929944365863\t1320\t10163\t0.817791215402559\t1.29354122975903\t60120000\t159\n"
     ]
    },
    {
     "name": "stderr",
     "output_type": "stream",
     "text": [
      "[mbo] 131: learning_rate=0.0679; num_leaves=566; feature_fraction=0.529; min_data_in_leaf=1320; envios=10163; bagging_fraction=0.818; lambda_l1=1.29 : y = 6.01e+07 : 61.5 secs : infill_ei\n",
      "\n"
     ]
    },
    {
     "name": "stdout",
     "output_type": "stream",
     "text": [
      "20250606 023543\tbinary\tcustom\tTRUE\tTRUE\tFALSE\t-100\t31\t559\tTRUE\t531673\t0.0567643638122644\t824\t0.250119768906488\t81\t11079\t0.923927509824962\t0.790172367786961\t61335000\t160\n"
     ]
    },
    {
     "name": "stderr",
     "output_type": "stream",
     "text": [
      "[mbo] 132: learning_rate=0.0568; num_leaves=824; feature_fraction=0.25; min_data_in_leaf=81; envios=11079; bagging_fraction=0.924; lambda_l1=0.79 : y = 6.13e+07 : 116.7 secs : infill_ei\n",
      "\n",
      "Saved the current state after iteration 133 in the file 5431.RDATA.\n",
      "\n"
     ]
    },
    {
     "name": "stdout",
     "output_type": "stream",
     "text": [
      "20250606 023641\tbinary\tcustom\tTRUE\tTRUE\tFALSE\t-100\t31\t195\tTRUE\t531673\t0.0823066239508743\t561\t0.323919768828712\t432\t10444\t0.649554295516389\t0.77917473641524\t60240000\t161\n"
     ]
    },
    {
     "name": "stderr",
     "output_type": "stream",
     "text": [
      "[mbo] 133: learning_rate=0.0823; num_leaves=561; feature_fraction=0.324; min_data_in_leaf=432; envios=10444; bagging_fraction=0.65; lambda_l1=0.779 : y = 6.02e+07 : 51.2 secs : infill_ei\n",
      "\n"
     ]
    },
    {
     "name": "stdout",
     "output_type": "stream",
     "text": [
      "20250606 023717\tbinary\tcustom\tTRUE\tTRUE\tFALSE\t-100\t31\t169\tTRUE\t531673\t0.092806991572467\t1010\t0.978094861701372\t1104\t12620\t0.897896463775411\t1.37326335768847\t61740000\t162\n"
     ]
    },
    {
     "name": "stderr",
     "output_type": "stream",
     "text": [
      "[mbo] 134: learning_rate=0.0928; num_leaves=1010; feature_fraction=0.978; min_data_in_leaf=1104; envios=12620; bagging_fraction=0.898; lambda_l1=1.37 : y = 6.17e+07 : 35.6 secs : infill_ei\n",
      "\n"
     ]
    },
    {
     "name": "stdout",
     "output_type": "stream",
     "text": [
      "20250606 023825\tbinary\tcustom\tTRUE\tTRUE\tFALSE\t-100\t31\t377\tTRUE\t531673\t0.0433959962277558\t880\t0.981590230926985\t1280\t12595\t0.979089355602553\t1.59757382966705\t60375000\t163\n"
     ]
    },
    {
     "name": "stderr",
     "output_type": "stream",
     "text": [
      "[mbo] 135: learning_rate=0.0434; num_leaves=880; feature_fraction=0.982; min_data_in_leaf=1280; envios=12595; bagging_fraction=0.979; lambda_l1=1.6 : y = 6.04e+07 : 65.3 secs : infill_ei\n",
      "\n"
     ]
    },
    {
     "name": "stdout",
     "output_type": "stream",
     "text": [
      "20250606 023855\tbinary\tcustom\tTRUE\tTRUE\tFALSE\t-100\t31\t87\tTRUE\t531673\t0.069819375293053\t541\t0.280779188607031\t1306\t13560\t0.910262495255181\t1.20620231661175\t6e+07\t164\n"
     ]
    },
    {
     "name": "stderr",
     "output_type": "stream",
     "text": [
      "[mbo] 136: learning_rate=0.0698; num_leaves=541; feature_fraction=0.281; min_data_in_leaf=1306; envios=13560; bagging_fraction=0.91; lambda_l1=1.21 : y = 6e+07 : 29.1 secs : infill_ei\n",
      "\n"
     ]
    },
    {
     "name": "stdout",
     "output_type": "stream",
     "text": [
      "20250606 023942\tbinary\tcustom\tTRUE\tTRUE\tFALSE\t-100\t31\t201\tTRUE\t531673\t0.0560172904544224\t725\t0.225107383201055\t1321\t10091\t0.795004624188372\t0.492291949752638\t61290000\t165\n"
     ]
    },
    {
     "name": "stderr",
     "output_type": "stream",
     "text": [
      "[mbo] 137: learning_rate=0.056; num_leaves=725; feature_fraction=0.225; min_data_in_leaf=1321; envios=10091; bagging_fraction=0.795; lambda_l1=0.492 : y = 6.13e+07 : 45.4 secs : infill_ei\n",
      "\n"
     ]
    },
    {
     "name": "stdout",
     "output_type": "stream",
     "text": [
      "20250606 024003\tbinary\tcustom\tTRUE\tTRUE\tFALSE\t-100\t31\t62\tTRUE\t531673\t0.10966072890552\t1008\t0.940076182945944\t1334\t13306\t0.758087402702532\t1.07477527999842\t61245000\t166\n"
     ]
    },
    {
     "name": "stderr",
     "output_type": "stream",
     "text": [
      "[mbo] 138: learning_rate=0.11; num_leaves=1008; feature_fraction=0.94; min_data_in_leaf=1334; envios=13306; bagging_fraction=0.758; lambda_l1=1.07 : y = 6.12e+07 : 20.4 secs : infill_ei\n",
      "\n"
     ]
    },
    {
     "name": "stdout",
     "output_type": "stream",
     "text": [
      "20250606 024107\tbinary\tcustom\tTRUE\tTRUE\tFALSE\t-100\t31\t348\tTRUE\t531673\t0.0731957205604779\t830\t0.283610881526204\t1576\t8798\t0.910967979272505\t0.698642695140239\t62175000\t167\n"
     ]
    },
    {
     "name": "stderr",
     "output_type": "stream",
     "text": [
      "[mbo] 139: learning_rate=0.0732; num_leaves=830; feature_fraction=0.284; min_data_in_leaf=1576; envios=8798; bagging_fraction=0.911; lambda_l1=0.699 : y = 6.22e+07 : 62.0 secs : infill_ei\n",
      "\n"
     ]
    },
    {
     "name": "stdout",
     "output_type": "stream",
     "text": [
      "20250606 024143\tbinary\tcustom\tTRUE\tTRUE\tFALSE\t-100\t31\t110\tTRUE\t531673\t0.0719531084106387\t700\t0.464949967810375\t1314\t13558\t0.31586200273786\t1.42709709978083\t59895000\t168\n"
     ]
    },
    {
     "name": "stderr",
     "output_type": "stream",
     "text": [
      "[mbo] 140: learning_rate=0.072; num_leaves=700; feature_fraction=0.465; min_data_in_leaf=1314; envios=13558; bagging_fraction=0.316; lambda_l1=1.43 : y = 5.99e+07 : 35.2 secs : infill_ei\n",
      "\n"
     ]
    },
    {
     "name": "stdout",
     "output_type": "stream",
     "text": [
      "20250606 024242\tbinary\tcustom\tTRUE\tTRUE\tFALSE\t-100\t31\t514\tTRUE\t531673\t0.0578111215723399\t13\t0.616669348964463\t1641\t12490\t0.120976151012121\t0.802517022725947\t60570000\t169\n"
     ]
    },
    {
     "name": "stderr",
     "output_type": "stream",
     "text": [
      "[mbo] 141: learning_rate=0.0578; num_leaves=13; feature_fraction=0.617; min_data_in_leaf=1641; envios=12490; bagging_fraction=0.121; lambda_l1=0.803 : y = 6.06e+07 : 57.6 secs : infill_ei\n",
      "\n"
     ]
    },
    {
     "name": "stdout",
     "output_type": "stream",
     "text": [
      "20250606 024339\tbinary\tcustom\tTRUE\tTRUE\tFALSE\t-100\t31\t302\tTRUE\t531673\t0.0720935783627843\t999\t0.289760880345862\t1695\t9797\t0.828275511724377\t1.55632506820624\t60375000\t170\n"
     ]
    },
    {
     "name": "stderr",
     "output_type": "stream",
     "text": [
      "[mbo] 142: learning_rate=0.0721; num_leaves=999; feature_fraction=0.29; min_data_in_leaf=1695; envios=9797; bagging_fraction=0.828; lambda_l1=1.56 : y = 6.04e+07 : 55.2 secs : infill_ei\n",
      "\n"
     ]
    },
    {
     "name": "stdout",
     "output_type": "stream",
     "text": [
      "20250606 024719\tbinary\tcustom\tTRUE\tTRUE\tFALSE\t-100\t31\t1057\tTRUE\t531673\t0.0123982618162491\t580\t0.283415275261909\t755\t8719\t0.871427843807342\t0.62805105514167\t61455000\t171\n"
     ]
    },
    {
     "name": "stderr",
     "output_type": "stream",
     "text": [
      "[mbo] 143: learning_rate=0.0124; num_leaves=580; feature_fraction=0.283; min_data_in_leaf=755; envios=8719; bagging_fraction=0.871; lambda_l1=0.628 : y = 6.15e+07 : 218.7 secs : infill_ei\n",
      "\n",
      "Saved the current state after iteration 144 in the file 5431.RDATA.\n",
      "\n"
     ]
    },
    {
     "name": "stdout",
     "output_type": "stream",
     "text": [
      "20250606 024831\tbinary\tcustom\tTRUE\tTRUE\tFALSE\t-100\t31\t375\tTRUE\t531673\t0.0649720972523903\t654\t0.274419314162248\t1995\t10422\t0.33561430985328\t0.052915659123027\t60900000\t172\n"
     ]
    },
    {
     "name": "stderr",
     "output_type": "stream",
     "text": [
      "[mbo] 144: learning_rate=0.065; num_leaves=654; feature_fraction=0.274; min_data_in_leaf=1995; envios=10422; bagging_fraction=0.336; lambda_l1=0.0529 : y = 6.09e+07 : 64.3 secs : infill_ei\n",
      "\n"
     ]
    },
    {
     "name": "stdout",
     "output_type": "stream",
     "text": [
      "20250606 025111\tbinary\tcustom\tTRUE\tTRUE\tFALSE\t-100\t31\t421\tTRUE\t531673\t0.0103384785413198\t975\t0.147910483974903\t184\t11748\t0.328523026195801\t0.640994178069881\t60525000\t173\n"
     ]
    },
    {
     "name": "stderr",
     "output_type": "stream",
     "text": [
      "[mbo] 145: learning_rate=0.0103; num_leaves=975; feature_fraction=0.148; min_data_in_leaf=184; envios=11748; bagging_fraction=0.329; lambda_l1=0.641 : y = 6.05e+07 : 158.7 secs : infill_ei\n",
      "\n"
     ]
    },
    {
     "name": "stdout",
     "output_type": "stream",
     "text": [
      "20250606 025313\tbinary\tcustom\tTRUE\tTRUE\tFALSE\t-100\t31\t619\tTRUE\t531673\t0.0109017615703278\t871\t0.749735423874772\t1669\t7861\t0.999537458437351\t1.99557445973013\t59580000\t174\n"
     ]
    },
    {
     "name": "stderr",
     "output_type": "stream",
     "text": [
      "[mbo] 146: learning_rate=0.0109; num_leaves=871; feature_fraction=0.75; min_data_in_leaf=1669; envios=7861; bagging_fraction=1; lambda_l1=2 : y = 5.96e+07 : 119.7 secs : infill_ei\n",
      "\n"
     ]
    },
    {
     "name": "stdout",
     "output_type": "stream",
     "text": [
      "20250606 025615\tbinary\tcustom\tTRUE\tTRUE\tFALSE\t-100\t31\t1149\tTRUE\t531673\t0.0136170257998371\t922\t0.946485307251403\t1407\t12076\t0.159501358184979\t1.22328802536345\t61215000\t175\n"
     ]
    },
    {
     "name": "stderr",
     "output_type": "stream",
     "text": [
      "[mbo] 147: learning_rate=0.0136; num_leaves=922; feature_fraction=0.946; min_data_in_leaf=1407; envios=12076; bagging_fraction=0.16; lambda_l1=1.22 : y = 6.12e+07 : 180.6 secs : infill_ei\n",
      "\n"
     ]
    }
   ],
   "source": [
    "# inicio la optimizacion bayesiana\n",
    "\n",
    "if (!file.exists(kbayesiana)) {\n",
    "  run <- mbo(obj.fun, learner = surr.km, control = ctrl)\n",
    "} else {\n",
    "  run <- mboContinue(kbayesiana) # retomo en caso que ya exista\n",
    "}"
   ]
  },
  {
   "cell_type": "markdown",
   "metadata": {
    "id": "0vu-1vf5LrVg"
   },
   "source": [
    "\n",
    "\n",
    "---\n",
    "\n"
   ]
  },
  {
   "cell_type": "code",
   "execution_count": null,
   "metadata": {},
   "outputs": [],
   "source": []
  }
 ],
 "metadata": {
  "colab": {
   "provenance": []
  },
  "kernelspec": {
   "display_name": "R",
   "language": "R",
   "name": "ir"
  },
  "language_info": {
   "codemirror_mode": "r",
   "file_extension": ".r",
   "mimetype": "text/x-r-source",
   "name": "R",
   "pygments_lexer": "r",
   "version": "4.4.3"
  }
 },
 "nbformat": 4,
 "nbformat_minor": 4
}
